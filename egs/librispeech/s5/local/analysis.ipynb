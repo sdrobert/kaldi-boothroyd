{
 "cells": [
  {
   "cell_type": "markdown",
   "metadata": {},
   "source": [
    "## Preamble"
   ]
  },
  {
   "cell_type": "code",
   "execution_count": 2,
   "metadata": {},
   "outputs": [
    {
     "name": "stdout",
     "output_type": "stream",
     "text": [
      "The autoreload extension is already loaded. To reload it, use:\n",
      "  %reload_ext autoreload\n"
     ]
    }
   ],
   "source": [
    "# load packages + declare constants\n",
    "\n",
    "%load_ext autoreload\n",
    "%autoreload\n",
    "\n",
    "import os\n",
    "\n",
    "import pandas as pd\n",
    "import numpy as np\n",
    "import pingouin as pg\n",
    "import plotly.io as pio\n",
    "import plotly.express as px\n",
    "import plotly.graph_objects as go\n",
    "import plotly.figure_factory as ff\n",
    "import pingouin as pg\n",
    "import statsmodels.api as sm\n",
    "\n",
    "from analysis_utils import *\n",
    "from scipy.optimize import curve_fit\n",
    "\n",
    "pio.renderers.default = \"vscode\"\n",
    "\n",
    "# gunzip -c data/local/lm/3-gram.arpa.gz | head -n 3\n",
    "LM_VOCAB_SIZE = 200_003\n",
    "\n",
    "FIGS = '../figs'\n",
    "os.makedirs(FIGS, exist_ok=True)\n",
    "FIG_TYPE = 'pdf'\n",
    "\n",
    "COL_SIZE_MM = 80\n",
    "MID_MARGIN_SIZE_MM = 10\n",
    "\n",
    "MM_TO_IN = 0.03937008\n",
    "IN_TO_PX = 96\n",
    "\n",
    "COL_SIZE_PX = int(COL_SIZE_MM * MM_TO_IN * IN_TO_PX)\n",
    "MID_MARGIN_SIZE_PX = int(MID_MARGIN_SIZE_MM * MM_TO_IN * IN_TO_PX)\n",
    "\n",
    "DOUBLE_COL_SIZE_PX = COL_SIZE_PX * 2 + MID_MARGIN_SIZE_PX\n",
    "\n",
    "FONT_SIZE = 9\n",
    "FONT_FAMILY = \"Times New Roman\"\n",
    "FONT = dict(size=FONT_SIZE, family=FONT_FAMILY)\n",
    "\n",
    "E_I = \"<i>e<sub>i</sub></i>\"\n",
    "E_C = \"<i>e<sub>c</sub></i>\"\n",
    "P_I = \"<i>p<sub>i</sub></i>\"\n",
    "P_C = \"<i>p<sub>c</sub></i>\"\n",
    "H_I = \"<i>H<sub>i</sub></i>\"\n",
    "H_C = \"<i>H<sub>c</sub></i>\"\n",
    "\n",
    "MDL_LATLM_RESLM2RENAME = {\n",
    "    'wav2vec2-large-960h-lv60_null_null': 'W2V2-L',\n",
    "    'wav2vec2-base-960h_null_null': 'W2V2-B',\n",
    "    'tdnn_1d_sp_tgsmall_tgsmall': 'TDNN-3',\n",
    "    'tdnn_1d_sp_tgsmall_fglarge': 'TDNN-4',\n",
    "    'tri6b_tgsmall_tgsmall': 'GMM-3',\n",
    "}\n",
    "\n",
    "PERPLM2RENAME = {\n",
    "    'tgsmall': 'Pruned 3-gram',\n",
    "    'fglarge': '4-gram',\n",
    "    'rnnlm_lstm_1a': 'RNN',\n",
    "}\n",
    "\n",
    "def format_fig_path(prefix : str, **kwargs) -> str:\n",
    "    pth = f\"{FIGS}/{prefix}\"\n",
    "    for key, vals in sorted(kwargs.items()):\n",
    "        if isinstance(vals, (str, int, float, bool)):\n",
    "            vals = (str(vals).lower(),)\n",
    "        assert isinstance(vals, (set, list, tuple)) and len(vals) and all(isinstance(x, str) for x in vals)\n",
    "        pth += f'-{key}'\n",
    "        for val in sorted(vals):\n",
    "            pth += f\"_{val.replace('-', '_')}\"\n",
    "    pth += f'.{FIG_TYPE}'\n",
    "    return pth\n"
   ]
  },
  {
   "cell_type": "code",
   "execution_count": 3,
   "metadata": {},
   "outputs": [
    {
     "name": "stdout",
     "output_type": "stream",
     "text": [
      "text_df contents\n"
     ]
    },
    {
     "data": {
      "text/html": [
       "<div>\n",
       "<style scoped>\n",
       "    .dataframe tbody tr th:only-of-type {\n",
       "        vertical-align: middle;\n",
       "    }\n",
       "\n",
       "    .dataframe tbody tr th {\n",
       "        vertical-align: top;\n",
       "    }\n",
       "\n",
       "    .dataframe thead th {\n",
       "        text-align: right;\n",
       "    }\n",
       "</style>\n",
       "<table border=\"1\" class=\"dataframe\">\n",
       "  <thead>\n",
       "    <tr style=\"text-align: right;\">\n",
       "      <th></th>\n",
       "      <th>utt</th>\n",
       "      <th>text</th>\n",
       "      <th>part</th>\n",
       "      <th>len</th>\n",
       "    </tr>\n",
       "  </thead>\n",
       "  <tbody>\n",
       "    <tr>\n",
       "      <th>0</th>\n",
       "      <td>lbi-100-121669-0000</td>\n",
       "      <td>TOM THE PIPER'S SON</td>\n",
       "      <td>train-clean-460</td>\n",
       "      <td>4</td>\n",
       "    </tr>\n",
       "    <tr>\n",
       "      <th>1</th>\n",
       "      <td>lbi-100-121669-0001</td>\n",
       "      <td>THE PIG WAS EAT AND TOM WAS BEAT AND TOM RAN C...</td>\n",
       "      <td>train-clean-460</td>\n",
       "      <td>15</td>\n",
       "    </tr>\n",
       "    <tr>\n",
       "      <th>2</th>\n",
       "      <td>lbi-100-121669-0002</td>\n",
       "      <td>HE NEVER DID ANY WORK EXCEPT TO PLAY THE PIPES...</td>\n",
       "      <td>train-clean-460</td>\n",
       "      <td>36</td>\n",
       "    </tr>\n",
       "    <tr>\n",
       "      <th>3</th>\n",
       "      <td>lbi-100-121669-0003</td>\n",
       "      <td>BUT HE WAS SO SLY AND CAUTIOUS THAT NO ONE HAD...</td>\n",
       "      <td>train-clean-460</td>\n",
       "      <td>42</td>\n",
       "    </tr>\n",
       "    <tr>\n",
       "      <th>4</th>\n",
       "      <td>lbi-100-121669-0004</td>\n",
       "      <td>AND THEY LIVED ALL ALONE IN A LITTLE HUT AWAY ...</td>\n",
       "      <td>train-clean-460</td>\n",
       "      <td>51</td>\n",
       "    </tr>\n",
       "  </tbody>\n",
       "</table>\n",
       "</div>"
      ],
      "text/plain": [
       "                   utt                                               text  \\\n",
       "0  lbi-100-121669-0000                                TOM THE PIPER'S SON   \n",
       "1  lbi-100-121669-0001  THE PIG WAS EAT AND TOM WAS BEAT AND TOM RAN C...   \n",
       "2  lbi-100-121669-0002  HE NEVER DID ANY WORK EXCEPT TO PLAY THE PIPES...   \n",
       "3  lbi-100-121669-0003  BUT HE WAS SO SLY AND CAUTIOUS THAT NO ONE HAD...   \n",
       "4  lbi-100-121669-0004  AND THEY LIVED ALL ALONE IN A LITTLE HUT AWAY ...   \n",
       "\n",
       "              part  len  \n",
       "0  train-clean-460    4  \n",
       "1  train-clean-460   15  \n",
       "2  train-clean-460   36  \n",
       "3  train-clean-460   42  \n",
       "4  train-clean-460   51  "
      ]
     },
     "metadata": {},
     "output_type": "display_data"
    },
    {
     "name": "stdout",
     "output_type": "stream",
     "text": [
      "perp_df contents\n"
     ]
    },
    {
     "data": {
      "text/html": [
       "<div>\n",
       "<style scoped>\n",
       "    .dataframe tbody tr th:only-of-type {\n",
       "        vertical-align: middle;\n",
       "    }\n",
       "\n",
       "    .dataframe tbody tr th {\n",
       "        vertical-align: top;\n",
       "    }\n",
       "\n",
       "    .dataframe thead th {\n",
       "        text-align: right;\n",
       "    }\n",
       "</style>\n",
       "<table border=\"1\" class=\"dataframe\">\n",
       "  <thead>\n",
       "    <tr style=\"text-align: right;\">\n",
       "      <th></th>\n",
       "      <th>utt</th>\n",
       "      <th>perp</th>\n",
       "      <th>perplm</th>\n",
       "      <th>part</th>\n",
       "      <th>ent</th>\n",
       "      <th>len</th>\n",
       "    </tr>\n",
       "  </thead>\n",
       "  <tbody>\n",
       "    <tr>\n",
       "      <th>0</th>\n",
       "      <td>PRV_se0_ag1_f_01_PRV_se0_ag1_f_01_1_002583_002756</td>\n",
       "      <td>188.283</td>\n",
       "      <td>tgmed</td>\n",
       "      <td>PRV</td>\n",
       "      <td>5.237946</td>\n",
       "      <td>11</td>\n",
       "    </tr>\n",
       "    <tr>\n",
       "      <th>1</th>\n",
       "      <td>PRV_se0_ag1_f_01_PRV_se0_ag1_f_01_1_002781_002912</td>\n",
       "      <td>2046.096</td>\n",
       "      <td>tgmed</td>\n",
       "      <td>PRV</td>\n",
       "      <td>7.623689</td>\n",
       "      <td>4</td>\n",
       "    </tr>\n",
       "    <tr>\n",
       "      <th>2</th>\n",
       "      <td>PRV_se0_ag1_f_01_PRV_se0_ag1_f_01_1_006175_006438</td>\n",
       "      <td>839.002</td>\n",
       "      <td>tgmed</td>\n",
       "      <td>PRV</td>\n",
       "      <td>6.732213</td>\n",
       "      <td>14</td>\n",
       "    </tr>\n",
       "    <tr>\n",
       "      <th>3</th>\n",
       "      <td>PRV_se0_ag1_f_01_PRV_se0_ag1_f_01_1_006553_006711</td>\n",
       "      <td>399.898</td>\n",
       "      <td>tgmed</td>\n",
       "      <td>PRV</td>\n",
       "      <td>5.991210</td>\n",
       "      <td>8</td>\n",
       "    </tr>\n",
       "    <tr>\n",
       "      <th>4</th>\n",
       "      <td>PRV_se0_ag1_f_01_PRV_se0_ag1_f_01_1_008786_008920</td>\n",
       "      <td>2707.916</td>\n",
       "      <td>tgmed</td>\n",
       "      <td>PRV</td>\n",
       "      <td>7.903935</td>\n",
       "      <td>4</td>\n",
       "    </tr>\n",
       "  </tbody>\n",
       "</table>\n",
       "</div>"
      ],
      "text/plain": [
       "                                                 utt      perp perplm part  \\\n",
       "0  PRV_se0_ag1_f_01_PRV_se0_ag1_f_01_1_002583_002756   188.283  tgmed  PRV   \n",
       "1  PRV_se0_ag1_f_01_PRV_se0_ag1_f_01_1_002781_002912  2046.096  tgmed  PRV   \n",
       "2  PRV_se0_ag1_f_01_PRV_se0_ag1_f_01_1_006175_006438   839.002  tgmed  PRV   \n",
       "3  PRV_se0_ag1_f_01_PRV_se0_ag1_f_01_1_006553_006711   399.898  tgmed  PRV   \n",
       "4  PRV_se0_ag1_f_01_PRV_se0_ag1_f_01_1_008786_008920  2707.916  tgmed  PRV   \n",
       "\n",
       "        ent  len  \n",
       "0  5.237946   11  \n",
       "1  7.623689    4  \n",
       "2  6.732213   14  \n",
       "3  5.991210    8  \n",
       "4  7.903935    4  "
      ]
     },
     "metadata": {},
     "output_type": "display_data"
    },
    {
     "name": "stdout",
     "output_type": "stream",
     "text": [
      "wer_df contents\n"
     ]
    },
    {
     "data": {
      "text/html": [
       "<div>\n",
       "<style scoped>\n",
       "    .dataframe tbody tr th:only-of-type {\n",
       "        vertical-align: middle;\n",
       "    }\n",
       "\n",
       "    .dataframe tbody tr th {\n",
       "        vertical-align: top;\n",
       "    }\n",
       "\n",
       "    .dataframe thead th {\n",
       "        text-align: right;\n",
       "    }\n",
       "</style>\n",
       "<table border=\"1\" class=\"dataframe\">\n",
       "  <thead>\n",
       "    <tr style=\"text-align: right;\">\n",
       "      <th></th>\n",
       "      <th>wer</th>\n",
       "      <th>ins</th>\n",
       "      <th>del</th>\n",
       "      <th>sub</th>\n",
       "      <th>lmwt</th>\n",
       "      <th>wip</th>\n",
       "      <th>mdl</th>\n",
       "      <th>latlm</th>\n",
       "      <th>reslm</th>\n",
       "      <th>part</th>\n",
       "      <th>snr</th>\n",
       "      <th>acc</th>\n",
       "    </tr>\n",
       "  </thead>\n",
       "  <tbody>\n",
       "    <tr>\n",
       "      <th>0</th>\n",
       "      <td>0.0524</td>\n",
       "      <td>265</td>\n",
       "      <td>298</td>\n",
       "      <td>2287</td>\n",
       "      <td>11</td>\n",
       "      <td>0.0</td>\n",
       "      <td>tdnn_1d_sp</td>\n",
       "      <td>tgsmall</td>\n",
       "      <td>tgsmall</td>\n",
       "      <td>dev-clean</td>\n",
       "      <td>30.0</td>\n",
       "      <td>0.9476</td>\n",
       "    </tr>\n",
       "    <tr>\n",
       "      <th>1</th>\n",
       "      <td>0.6015</td>\n",
       "      <td>1029</td>\n",
       "      <td>10167</td>\n",
       "      <td>21528</td>\n",
       "      <td>10</td>\n",
       "      <td>0.0</td>\n",
       "      <td>tdnn_1d_sp</td>\n",
       "      <td>tgsmall</td>\n",
       "      <td>tgsmall</td>\n",
       "      <td>dev-clean</td>\n",
       "      <td>2.0</td>\n",
       "      <td>0.3985</td>\n",
       "    </tr>\n",
       "    <tr>\n",
       "      <th>2</th>\n",
       "      <td>0.2877</td>\n",
       "      <td>740</td>\n",
       "      <td>3749</td>\n",
       "      <td>11163</td>\n",
       "      <td>12</td>\n",
       "      <td>0.0</td>\n",
       "      <td>tdnn_1d_sp</td>\n",
       "      <td>tgsmall</td>\n",
       "      <td>tgsmall</td>\n",
       "      <td>dev-clean</td>\n",
       "      <td>8.0</td>\n",
       "      <td>0.7123</td>\n",
       "    </tr>\n",
       "    <tr>\n",
       "      <th>3</th>\n",
       "      <td>0.1930</td>\n",
       "      <td>589</td>\n",
       "      <td>1905</td>\n",
       "      <td>8006</td>\n",
       "      <td>12</td>\n",
       "      <td>0.0</td>\n",
       "      <td>tdnn_1d_sp</td>\n",
       "      <td>tgsmall</td>\n",
       "      <td>tgsmall</td>\n",
       "      <td>dev-clean</td>\n",
       "      <td>11.0</td>\n",
       "      <td>0.8070</td>\n",
       "    </tr>\n",
       "    <tr>\n",
       "      <th>4</th>\n",
       "      <td>0.8439</td>\n",
       "      <td>441</td>\n",
       "      <td>23839</td>\n",
       "      <td>21628</td>\n",
       "      <td>8</td>\n",
       "      <td>0.0</td>\n",
       "      <td>tdnn_1d_sp</td>\n",
       "      <td>tgsmall</td>\n",
       "      <td>tgsmall</td>\n",
       "      <td>dev-clean</td>\n",
       "      <td>-3.0</td>\n",
       "      <td>0.1561</td>\n",
       "    </tr>\n",
       "  </tbody>\n",
       "</table>\n",
       "</div>"
      ],
      "text/plain": [
       "      wer   ins    del    sub  lmwt  wip         mdl    latlm    reslm  \\\n",
       "0  0.0524   265    298   2287    11  0.0  tdnn_1d_sp  tgsmall  tgsmall   \n",
       "1  0.6015  1029  10167  21528    10  0.0  tdnn_1d_sp  tgsmall  tgsmall   \n",
       "2  0.2877   740   3749  11163    12  0.0  tdnn_1d_sp  tgsmall  tgsmall   \n",
       "3  0.1930   589   1905   8006    12  0.0  tdnn_1d_sp  tgsmall  tgsmall   \n",
       "4  0.8439   441  23839  21628     8  0.0  tdnn_1d_sp  tgsmall  tgsmall   \n",
       "\n",
       "        part   snr     acc  \n",
       "0  dev-clean  30.0  0.9476  \n",
       "1  dev-clean   2.0  0.3985  \n",
       "2  dev-clean   8.0  0.7123  \n",
       "3  dev-clean  11.0  0.8070  \n",
       "4  dev-clean  -3.0  0.1561  "
      ]
     },
     "metadata": {},
     "output_type": "display_data"
    },
    {
     "name": "stdout",
     "output_type": "stream",
     "text": [
      "uttwer_df contents\n"
     ]
    },
    {
     "data": {
      "text/html": [
       "<div>\n",
       "<style scoped>\n",
       "    .dataframe tbody tr th:only-of-type {\n",
       "        vertical-align: middle;\n",
       "    }\n",
       "\n",
       "    .dataframe tbody tr th {\n",
       "        vertical-align: top;\n",
       "    }\n",
       "\n",
       "    .dataframe thead th {\n",
       "        text-align: right;\n",
       "    }\n",
       "</style>\n",
       "<table border=\"1\" class=\"dataframe\">\n",
       "  <thead>\n",
       "    <tr style=\"text-align: right;\">\n",
       "      <th></th>\n",
       "      <th>utt</th>\n",
       "      <th>wer</th>\n",
       "      <th>mdl</th>\n",
       "      <th>latlm</th>\n",
       "      <th>reslm</th>\n",
       "      <th>part</th>\n",
       "      <th>snr</th>\n",
       "      <th>acc</th>\n",
       "      <th>len</th>\n",
       "    </tr>\n",
       "  </thead>\n",
       "  <tbody>\n",
       "    <tr>\n",
       "      <th>0</th>\n",
       "      <td>lbi-1272-128104-0000</td>\n",
       "      <td>0.0588</td>\n",
       "      <td>tdnn_1d_sp</td>\n",
       "      <td>tgsmall</td>\n",
       "      <td>tgsmall</td>\n",
       "      <td>dev-clean</td>\n",
       "      <td>30.0</td>\n",
       "      <td>0.9412</td>\n",
       "      <td>17</td>\n",
       "    </tr>\n",
       "    <tr>\n",
       "      <th>1</th>\n",
       "      <td>lbi-1272-128104-0001</td>\n",
       "      <td>0.1000</td>\n",
       "      <td>tdnn_1d_sp</td>\n",
       "      <td>tgsmall</td>\n",
       "      <td>tgsmall</td>\n",
       "      <td>dev-clean</td>\n",
       "      <td>30.0</td>\n",
       "      <td>0.9000</td>\n",
       "      <td>10</td>\n",
       "    </tr>\n",
       "    <tr>\n",
       "      <th>2</th>\n",
       "      <td>lbi-1272-128104-0002</td>\n",
       "      <td>0.0312</td>\n",
       "      <td>tdnn_1d_sp</td>\n",
       "      <td>tgsmall</td>\n",
       "      <td>tgsmall</td>\n",
       "      <td>dev-clean</td>\n",
       "      <td>30.0</td>\n",
       "      <td>0.9688</td>\n",
       "      <td>32</td>\n",
       "    </tr>\n",
       "    <tr>\n",
       "      <th>3</th>\n",
       "      <td>lbi-1272-128104-0003</td>\n",
       "      <td>0.0417</td>\n",
       "      <td>tdnn_1d_sp</td>\n",
       "      <td>tgsmall</td>\n",
       "      <td>tgsmall</td>\n",
       "      <td>dev-clean</td>\n",
       "      <td>30.0</td>\n",
       "      <td>0.9583</td>\n",
       "      <td>24</td>\n",
       "    </tr>\n",
       "    <tr>\n",
       "      <th>4</th>\n",
       "      <td>lbi-1272-128104-0004</td>\n",
       "      <td>0.1618</td>\n",
       "      <td>tdnn_1d_sp</td>\n",
       "      <td>tgsmall</td>\n",
       "      <td>tgsmall</td>\n",
       "      <td>dev-clean</td>\n",
       "      <td>30.0</td>\n",
       "      <td>0.8382</td>\n",
       "      <td>68</td>\n",
       "    </tr>\n",
       "  </tbody>\n",
       "</table>\n",
       "</div>"
      ],
      "text/plain": [
       "                    utt     wer         mdl    latlm    reslm       part  \\\n",
       "0  lbi-1272-128104-0000  0.0588  tdnn_1d_sp  tgsmall  tgsmall  dev-clean   \n",
       "1  lbi-1272-128104-0001  0.1000  tdnn_1d_sp  tgsmall  tgsmall  dev-clean   \n",
       "2  lbi-1272-128104-0002  0.0312  tdnn_1d_sp  tgsmall  tgsmall  dev-clean   \n",
       "3  lbi-1272-128104-0003  0.0417  tdnn_1d_sp  tgsmall  tgsmall  dev-clean   \n",
       "4  lbi-1272-128104-0004  0.1618  tdnn_1d_sp  tgsmall  tgsmall  dev-clean   \n",
       "\n",
       "    snr     acc  len  \n",
       "0  30.0  0.9412   17  \n",
       "1  30.0  0.9000   10  \n",
       "2  30.0  0.9688   32  \n",
       "3  30.0  0.9583   24  \n",
       "4  30.0  0.8382   68  "
      ]
     },
     "metadata": {},
     "output_type": "display_data"
    }
   ],
   "source": [
    "# load tables\n",
    "\n",
    "print(\"text_df contents\")\n",
    "text_df = read_text_as_df()\n",
    "display(text_df.head())\n",
    "\n",
    "print(\"perp_df contents\")\n",
    "perp_df = read_perps_as_df()\n",
    "perp_df = perp_df.merge(text_df[['utt', 'len']], on='utt')\n",
    "display(perp_df.head())\n",
    "\n",
    "print(\"wer_df contents\")\n",
    "wer_df = read_best_wers_as_df()\n",
    "display(wer_df.head())\n",
    "\n",
    "print(\"uttwer_df contents\")\n",
    "uttwer_df = read_best_uttwers_as_df()\n",
    "uttwer_df = uttwer_df.merge(text_df[['utt', 'len']], on='utt')\n",
    "display(uttwer_df.head())"
   ]
  },
  {
   "cell_type": "markdown",
   "metadata": {},
   "source": [
    "## Perplexity"
   ]
  },
  {
   "cell_type": "code",
   "execution_count": 9,
   "metadata": {},
   "outputs": [
    {
     "name": "stdout",
     "output_type": "stream",
     "text": [
      "entropy/perplexity by partition and LM\n"
     ]
    },
    {
     "data": {
      "text/html": [
       "<div>\n",
       "<style scoped>\n",
       "    .dataframe tbody tr th:only-of-type {\n",
       "        vertical-align: middle;\n",
       "    }\n",
       "\n",
       "    .dataframe tbody tr th {\n",
       "        vertical-align: top;\n",
       "    }\n",
       "\n",
       "    .dataframe thead tr th {\n",
       "        text-align: left;\n",
       "    }\n",
       "\n",
       "    .dataframe thead tr:last-of-type th {\n",
       "        text-align: right;\n",
       "    }\n",
       "</style>\n",
       "<table border=\"1\" class=\"dataframe\">\n",
       "  <thead>\n",
       "    <tr>\n",
       "      <th></th>\n",
       "      <th colspan=\"5\" halign=\"left\">ent</th>\n",
       "      <th colspan=\"5\" halign=\"left\">perp</th>\n",
       "    </tr>\n",
       "    <tr>\n",
       "      <th>perplm</th>\n",
       "      <th>fglarge</th>\n",
       "      <th>rnnlm_lstm_1a</th>\n",
       "      <th>tglarge</th>\n",
       "      <th>tgmed</th>\n",
       "      <th>tgsmall</th>\n",
       "      <th>fglarge</th>\n",
       "      <th>rnnlm_lstm_1a</th>\n",
       "      <th>tglarge</th>\n",
       "      <th>tgmed</th>\n",
       "      <th>tgsmall</th>\n",
       "    </tr>\n",
       "    <tr>\n",
       "      <th>part</th>\n",
       "      <th></th>\n",
       "      <th></th>\n",
       "      <th></th>\n",
       "      <th></th>\n",
       "      <th></th>\n",
       "      <th></th>\n",
       "      <th></th>\n",
       "      <th></th>\n",
       "      <th></th>\n",
       "      <th></th>\n",
       "    </tr>\n",
       "  </thead>\n",
       "  <tbody>\n",
       "    <tr>\n",
       "      <th>PRV</th>\n",
       "      <td>5.13</td>\n",
       "      <td>5.09</td>\n",
       "      <td>5.15</td>\n",
       "      <td>5.35</td>\n",
       "      <td>5.48</td>\n",
       "      <td>169.04</td>\n",
       "      <td>162.94</td>\n",
       "      <td>172.09</td>\n",
       "      <td>211.34</td>\n",
       "      <td>240.49</td>\n",
       "    </tr>\n",
       "    <tr>\n",
       "      <th>ROC</th>\n",
       "      <td>5.44</td>\n",
       "      <td>5.35</td>\n",
       "      <td>5.45</td>\n",
       "      <td>5.61</td>\n",
       "      <td>5.72</td>\n",
       "      <td>229.90</td>\n",
       "      <td>210.93</td>\n",
       "      <td>232.26</td>\n",
       "      <td>273.85</td>\n",
       "      <td>306.19</td>\n",
       "    </tr>\n",
       "    <tr>\n",
       "      <th>dev-clean</th>\n",
       "      <td>5.02</td>\n",
       "      <td>4.69</td>\n",
       "      <td>5.15</td>\n",
       "      <td>5.52</td>\n",
       "      <td>5.73</td>\n",
       "      <td>151.64</td>\n",
       "      <td>109.37</td>\n",
       "      <td>173.04</td>\n",
       "      <td>249.27</td>\n",
       "      <td>307.44</td>\n",
       "    </tr>\n",
       "    <tr>\n",
       "      <th>dev-other</th>\n",
       "      <td>4.95</td>\n",
       "      <td>4.64</td>\n",
       "      <td>5.08</td>\n",
       "      <td>5.43</td>\n",
       "      <td>5.63</td>\n",
       "      <td>140.83</td>\n",
       "      <td>103.87</td>\n",
       "      <td>161.37</td>\n",
       "      <td>227.90</td>\n",
       "      <td>279.69</td>\n",
       "    </tr>\n",
       "    <tr>\n",
       "      <th>hp</th>\n",
       "      <td>7.14</td>\n",
       "      <td>7.24</td>\n",
       "      <td>7.13</td>\n",
       "      <td>7.60</td>\n",
       "      <td>7.87</td>\n",
       "      <td>1262.63</td>\n",
       "      <td>1396.79</td>\n",
       "      <td>1250.38</td>\n",
       "      <td>1999.89</td>\n",
       "      <td>2611.67</td>\n",
       "    </tr>\n",
       "    <tr>\n",
       "      <th>lp</th>\n",
       "      <td>8.40</td>\n",
       "      <td>8.26</td>\n",
       "      <td>8.43</td>\n",
       "      <td>8.36</td>\n",
       "      <td>8.35</td>\n",
       "      <td>4427.25</td>\n",
       "      <td>3847.25</td>\n",
       "      <td>4604.73</td>\n",
       "      <td>4255.38</td>\n",
       "      <td>4228.28</td>\n",
       "    </tr>\n",
       "    <tr>\n",
       "      <th>test-clean</th>\n",
       "      <td>5.06</td>\n",
       "      <td>4.74</td>\n",
       "      <td>5.19</td>\n",
       "      <td>5.55</td>\n",
       "      <td>5.76</td>\n",
       "      <td>158.30</td>\n",
       "      <td>114.17</td>\n",
       "      <td>179.32</td>\n",
       "      <td>257.72</td>\n",
       "      <td>315.82</td>\n",
       "    </tr>\n",
       "    <tr>\n",
       "      <th>test-other</th>\n",
       "      <td>4.98</td>\n",
       "      <td>4.68</td>\n",
       "      <td>5.11</td>\n",
       "      <td>5.46</td>\n",
       "      <td>5.66</td>\n",
       "      <td>145.48</td>\n",
       "      <td>108.24</td>\n",
       "      <td>165.57</td>\n",
       "      <td>235.89</td>\n",
       "      <td>288.20</td>\n",
       "    </tr>\n",
       "    <tr>\n",
       "      <th>zp</th>\n",
       "      <td>8.95</td>\n",
       "      <td>9.01</td>\n",
       "      <td>8.98</td>\n",
       "      <td>8.70</td>\n",
       "      <td>8.65</td>\n",
       "      <td>7692.62</td>\n",
       "      <td>8145.53</td>\n",
       "      <td>7911.05</td>\n",
       "      <td>6012.86</td>\n",
       "      <td>5732.55</td>\n",
       "    </tr>\n",
       "  </tbody>\n",
       "</table>\n",
       "</div>"
      ],
      "text/plain": [
       "               ent                                         perp                \\\n",
       "perplm     fglarge rnnlm_lstm_1a tglarge tgmed tgsmall  fglarge rnnlm_lstm_1a   \n",
       "part                                                                            \n",
       "PRV           5.13          5.09    5.15  5.35    5.48   169.04        162.94   \n",
       "ROC           5.44          5.35    5.45  5.61    5.72   229.90        210.93   \n",
       "dev-clean     5.02          4.69    5.15  5.52    5.73   151.64        109.37   \n",
       "dev-other     4.95          4.64    5.08  5.43    5.63   140.83        103.87   \n",
       "hp            7.14          7.24    7.13  7.60    7.87  1262.63       1396.79   \n",
       "lp            8.40          8.26    8.43  8.36    8.35  4427.25       3847.25   \n",
       "test-clean    5.06          4.74    5.19  5.55    5.76   158.30        114.17   \n",
       "test-other    4.98          4.68    5.11  5.46    5.66   145.48        108.24   \n",
       "zp            8.95          9.01    8.98  8.70    8.65  7692.62       8145.53   \n",
       "\n",
       "                                       \n",
       "perplm      tglarge    tgmed  tgsmall  \n",
       "part                                   \n",
       "PRV          172.09   211.34   240.49  \n",
       "ROC          232.26   273.85   306.19  \n",
       "dev-clean    173.04   249.27   307.44  \n",
       "dev-other    161.37   227.90   279.69  \n",
       "hp          1250.38  1999.89  2611.67  \n",
       "lp          4604.73  4255.38  4228.28  \n",
       "test-clean   179.32   257.72   315.82  \n",
       "test-other   165.57   235.89   288.20  \n",
       "zp          7911.05  6012.86  5732.55  "
      ]
     },
     "metadata": {},
     "output_type": "display_data"
    }
   ],
   "source": [
    "print(\"entropy/perplexity by partition and LM\")\n",
    "df = agg_mean_by_lens(perp_df, 'len', 'ent', ['part', 'perplm'])\n",
    "df['perp'] = np.exp(df['ent'])\n",
    "df = df.pivot(values=['ent', 'perp'], index='part', columns='perplm')\n",
    "display(df.round(2))\n"
   ]
  },
  {
   "cell_type": "code",
   "execution_count": 24,
   "metadata": {},
   "outputs": [
    {
     "name": "stdout",
     "output_type": "stream",
     "text": [
      "distribution of per-utt entropy by partition and LM\n"
     ]
    },
    {
     "name": "stderr",
     "output_type": "stream",
     "text": [
      "/u/sdrobert/Scratch2/mamba-envs/kaldi-boothroyd/lib/python3.10/site-packages/plotly/express/_core.py:2065: FutureWarning:\n",
      "\n",
      "When grouping with a length-1 list-like, you will need to pass a length-1 tuple to get_group in a future version of pandas. Pass `(name,)` instead of `name` to silence this warning.\n",
      "\n"
     ]
    }
   ],
   "source": [
    "print('distribution of per-utt entropy by partition and LM')\n",
    "parts = ('dev-clean', 'dev-other', 'ROC', 'PRV')\n",
    "perplms = ('Pruned 3-gram', '4-gram', 'RNN')\n",
    "assert all(v in PERPLM2RENAME.values() for v in perplms)\n",
    "df = perp_df.loc[perp_df['part'].isin(parts)]\n",
    "df = df.assign(perplm=df['perplm'].map(PERPLM2RENAME)).dropna()\n",
    "fig = px.box(\n",
    "    df, y='ent', color='perplm', x='part',\n",
    "    # box=True,\n",
    "    labels=dict(ent='<i>H_s</i>', part='Partition', lm=\"LM\", perplm=\"LM\"),\n",
    "    category_orders=dict(part=parts, perplm=perplms),\n",
    ")\n",
    "fig.update_traces(marker=dict(size=4), line=dict(width=1))\n",
    "fig.update_layout(\n",
    "    legend=dict(orientation=\"h\", yanchor=\"bottom\", y=1.0),\n",
    "    yaxis=dict(tickangle=270, title_standoff=5),\n",
    "    margin=dict(l=0, r=10, t=10, b=30),\n",
    "    font=FONT,\n",
    "    width=COL_SIZE_PX, height=int(COL_SIZE_PX),\n",
    ")\n",
    "# fig.show()\n",
    "fig.write_image(format_fig_path(\"violin-ent\", perplms=perplms, parts=parts))"
   ]
  },
  {
   "cell_type": "code",
   "execution_count": 23,
   "metadata": {},
   "outputs": [
    {
     "data": {
      "text/html": [
       "<div>\n",
       "<style scoped>\n",
       "    .dataframe tbody tr th:only-of-type {\n",
       "        vertical-align: middle;\n",
       "    }\n",
       "\n",
       "    .dataframe tbody tr th {\n",
       "        vertical-align: top;\n",
       "    }\n",
       "\n",
       "    .dataframe thead th {\n",
       "        text-align: right;\n",
       "    }\n",
       "</style>\n",
       "<table border=\"1\" class=\"dataframe\">\n",
       "  <thead>\n",
       "    <tr style=\"text-align: right;\">\n",
       "      <th></th>\n",
       "      <th>W</th>\n",
       "      <th>pval</th>\n",
       "      <th>normal</th>\n",
       "    </tr>\n",
       "    <tr>\n",
       "      <th>perplm</th>\n",
       "      <th></th>\n",
       "      <th></th>\n",
       "      <th></th>\n",
       "    </tr>\n",
       "  </thead>\n",
       "  <tbody>\n",
       "    <tr>\n",
       "      <th>RNN</th>\n",
       "      <td>2389.619</td>\n",
       "      <td>0.0</td>\n",
       "      <td>False</td>\n",
       "    </tr>\n",
       "    <tr>\n",
       "      <th>Pruned 3-gram</th>\n",
       "      <td>694.098</td>\n",
       "      <td>0.0</td>\n",
       "      <td>False</td>\n",
       "    </tr>\n",
       "    <tr>\n",
       "      <th>4-gram</th>\n",
       "      <td>1011.655</td>\n",
       "      <td>0.0</td>\n",
       "      <td>False</td>\n",
       "    </tr>\n",
       "  </tbody>\n",
       "</table>\n",
       "</div>"
      ],
      "text/plain": [
       "                      W  pval  normal\n",
       "perplm                               \n",
       "RNN            2389.619   0.0   False\n",
       "Pruned 3-gram   694.098   0.0   False\n",
       "4-gram         1011.655   0.0   False"
      ]
     },
     "metadata": {},
     "output_type": "display_data"
    },
    {
     "name": "stdout",
     "output_type": "stream",
     "text": [
      "pairwise spearman correlations of entropy across LMs\n"
     ]
    },
    {
     "data": {
      "text/html": [
       "<div>\n",
       "<style scoped>\n",
       "    .dataframe tbody tr th:only-of-type {\n",
       "        vertical-align: middle;\n",
       "    }\n",
       "\n",
       "    .dataframe tbody tr th {\n",
       "        vertical-align: top;\n",
       "    }\n",
       "\n",
       "    .dataframe thead th {\n",
       "        text-align: right;\n",
       "    }\n",
       "</style>\n",
       "<table border=\"1\" class=\"dataframe\">\n",
       "  <thead>\n",
       "    <tr style=\"text-align: right;\">\n",
       "      <th></th>\n",
       "      <th>X</th>\n",
       "      <th>Y</th>\n",
       "      <th>method</th>\n",
       "      <th>alternative</th>\n",
       "      <th>n</th>\n",
       "      <th>r</th>\n",
       "      <th>CI95%</th>\n",
       "      <th>p-unc</th>\n",
       "      <th>power</th>\n",
       "    </tr>\n",
       "  </thead>\n",
       "  <tbody>\n",
       "    <tr>\n",
       "      <th>0</th>\n",
       "      <td>4-gram</td>\n",
       "      <td>Pruned 3-gram</td>\n",
       "      <td>spearman</td>\n",
       "      <td>greater</td>\n",
       "      <td>17351</td>\n",
       "      <td>0.889</td>\n",
       "      <td>[0.89, 1.0]</td>\n",
       "      <td>0.0</td>\n",
       "      <td>1.0</td>\n",
       "    </tr>\n",
       "    <tr>\n",
       "      <th>1</th>\n",
       "      <td>4-gram</td>\n",
       "      <td>RNN</td>\n",
       "      <td>spearman</td>\n",
       "      <td>greater</td>\n",
       "      <td>17351</td>\n",
       "      <td>0.859</td>\n",
       "      <td>[0.86, 1.0]</td>\n",
       "      <td>0.0</td>\n",
       "      <td>1.0</td>\n",
       "    </tr>\n",
       "    <tr>\n",
       "      <th>2</th>\n",
       "      <td>Pruned 3-gram</td>\n",
       "      <td>RNN</td>\n",
       "      <td>spearman</td>\n",
       "      <td>greater</td>\n",
       "      <td>17351</td>\n",
       "      <td>0.783</td>\n",
       "      <td>[0.78, 1.0]</td>\n",
       "      <td>0.0</td>\n",
       "      <td>1.0</td>\n",
       "    </tr>\n",
       "  </tbody>\n",
       "</table>\n",
       "</div>"
      ],
      "text/plain": [
       "               X              Y    method alternative      n      r  \\\n",
       "0         4-gram  Pruned 3-gram  spearman     greater  17351  0.889   \n",
       "1         4-gram            RNN  spearman     greater  17351  0.859   \n",
       "2  Pruned 3-gram            RNN  spearman     greater  17351  0.783   \n",
       "\n",
       "         CI95%  p-unc  power  \n",
       "0  [0.89, 1.0]    0.0    1.0  \n",
       "1  [0.86, 1.0]    0.0    1.0  \n",
       "2  [0.78, 1.0]    0.0    1.0  "
      ]
     },
     "metadata": {},
     "output_type": "display_data"
    }
   ],
   "source": [
    "parts = ('dev-clean', 'dev-other', 'ROC', 'PRV')\n",
    "perplms = ('Pruned 3-gram', '4-gram', 'RNN')\n",
    "assert all(v in PERPLM2RENAME.values() for v in perplms)\n",
    "df = perp_df.loc[perp_df['part'].isin(parts)]\n",
    "df = df.assign(perplm=df['perplm'].map(PERPLM2RENAME)).dropna()\n",
    "display(pg.normality(df, dv='ent', group='perplm', method='normaltest').round(3))\n",
    "\n",
    "print(\"pairwise spearman correlations of entropy across LMs\")\n",
    "df = df.pivot(values='ent', index='utt', columns='perplm')\n",
    "display(pg.pairwise_corr(df, columns=df.columns, alternative='greater', method='spearman').round(3))\n"
   ]
  },
  {
   "cell_type": "code",
   "execution_count": null,
   "metadata": {},
   "outputs": [],
   "source": [
    "print(\"per-utterance perplexity vs. rank by LM\")\n",
    "\n",
    "perplms = ('tgsmall', 'fglarge', 'rnnlm_lstm_1a')\n",
    "parts = ('dev-clean', 'dev-other', 'ROC', 'PRV')\n",
    "\n",
    "df = perp_df.copy()\n",
    "df = df.loc[df['perplm'].isin(perplms) & df['part'].isin(parts)]\n",
    "df['rank'] = df.groupby(['perplm', 'part'])['perp'].transform(lambda x: x.rank() / len(x))\n",
    "\n",
    "fig = px.scatter(\n",
    "    df, x='rank', y='perp', facet_col='perplm', color='part', log_y=True,\n",
    "    labels=dict(rank='normalized rank', perp='Perplexity', perplm='LM', part='Partition'),\n",
    "    category_orders=dict(part=parts, perplm=perplms),\n",
    ")\n",
    "fig.update_traces(marker=dict(size=3))\n",
    "fig.update_layout(\n",
    "    # legend=dict(orientation=\"h\", yanchor=\"bottom\", y=1.03),\n",
    "    yaxis=dict(tickangle=45, title_standoff=5),\n",
    "    margin=dict(l=0, r=10, t=20, b=0),\n",
    "    font=FONT,\n",
    "    width=DOUBLE_COL_SIZE_PX, height=COL_SIZE_PX,\n",
    "    legend=dict(\n",
    "        yanchor=\"top\",\n",
    "        y=0.99,\n",
    "        xanchor=\"left\",\n",
    "        x=0.01,\n",
    "    )\n",
    ")\n",
    "# fig.show()\n",
    "fig.write_image(format_fig_path('perp-by-rank', perplms=perplms, parts=parts))"
   ]
  },
  {
   "cell_type": "markdown",
   "metadata": {},
   "source": [
    "## WER"
   ]
  },
  {
   "cell_type": "code",
   "execution_count": null,
   "metadata": {},
   "outputs": [],
   "source": [
    "part = 'dev-clean'\n",
    "latlm = reslm = 'tgsmall'\n",
    "mdl = 'tdnn_1d_sp'\n",
    "desc = f\"({part} partition, {mdl} model, {latlm} lattice LM, and {reslm} rescoring lm)\"\n",
    "\n",
    "df = uttwer_df.loc[\n",
    "    np.isfinite(uttwer_df['snr']) &\n",
    "    (uttwer_df['latlm'] == latlm) &\n",
    "    (uttwer_df['reslm'] == reslm) &\n",
    "    (uttwer_df['part'] == part) &\n",
    "    (uttwer_df['mdl'] == mdl)\n",
    "].copy()\n",
    "df['snr'] = df['snr'].astype('int')\n",
    "\n",
    "with pd.option_context('display.max_rows', 10):\n",
    "    print(f\"test of normality of per-utterance WERs given SNR {desc}\")\n",
    "    display(pg.normality(df, dv='wer', group='snr', method='normaltest').round(3).sort_index())\n",
    "\n",
    "\n",
    "    print(f\"spearman correlation of WERs across SNRs {desc}\")\n",
    "    df = df.pivot(values='wer', index='utt', columns='snr')\n",
    "    display(pg.pairwise_corr(df, columns=df.columns, alternative='greater', method='spearman').round(3).sort_index())\n",
    "\n",
    "print(f\"scatter plot matrix of per-utterance WERs of select SNRs {desc}\")\n",
    "fig = px.scatter_matrix(df, dimensions=[5, 10, 20, 30], opacity=0.1)\n",
    "fig.update_layout({\"xaxis\"+str(i+1): dict(range = [-0.1, 1]) for i in range(len(df.columns))})\n",
    "fig.update_layout({\"yaxis\"+str(i+1): dict(range = [-0.1, 1]) for i in range(len(df.columns))})\n",
    "fig.show()"
   ]
  },
  {
   "cell_type": "markdown",
   "metadata": {},
   "source": [
    "## Zhang et al"
   ]
  },
  {
   "cell_type": "code",
   "execution_count": 19,
   "metadata": {},
   "outputs": [
    {
     "name": "stderr",
     "output_type": "stream",
     "text": [
      "/u/sdrobert/Scratch2/mamba-envs/kaldi-boothroyd/lib/python3.10/site-packages/plotly/express/_core.py:2065: FutureWarning:\n",
      "\n",
      "When grouping with a length-1 list-like, you will need to pass a length-1 tuple to get_group in a future version of pandas. Pass `(name,)` instead of `name` to silence this warning.\n",
      "\n"
     ]
    },
    {
     "data": {
      "application/vnd.plotly.v1+json": {
       "config": {
        "plotlyServerURL": "https://plot.ly"
       },
       "data": [
        {
         "hovertemplate": "mdl=tdnn_1d_sp<br>snr=%{x}<br>acc=%{y}<extra></extra>",
         "legendgroup": "tdnn_1d_sp",
         "line": {
          "width": 2
         },
         "marker": {
          "color": "#636efa",
          "size": 5,
          "symbol": "circle"
         },
         "mode": "markers",
         "name": "tdnn_1d_sp",
         "orientation": "v",
         "showlegend": true,
         "type": "scatter",
         "x": [
          7,
          26,
          14,
          -6,
          -1,
          13,
          19,
          21,
          0,
          4,
          -10,
          25,
          -5,
          17,
          10,
          -8,
          -2,
          28,
          22,
          3,
          9,
          1,
          18,
          12,
          20,
          27,
          15,
          -7,
          6,
          8,
          2,
          30,
          11,
          -3,
          -9,
          23,
          29,
          24,
          -4,
          16,
          5
         ],
         "xaxis": "x",
         "y": [
          49.36000000000001,
          85.08,
          71.48,
          4.890000000000006,
          17.510000000000005,
          69.07,
          80.24,
          82.16,
          21.26,
          37.14999999999999,
          0.7099999999999884,
          84.75,
          6.790000000000007,
          77.4,
          60.220000000000006,
          2.1399999999999975,
          14.319999999999988,
          85.77,
          82.92,
          32.99999999999999,
          56.78000000000001,
          25.269999999999992,
          79.06,
          66.55,
          81.33,
          85.5,
          73.73,
          3.3700000000000063,
          45.52,
          53.06999999999999,
          28.939999999999998,
          86.32,
          63.55,
          11.40000000000001,
          1.2900000000000023,
          83.67999999999999,
          86.05000000000001,
          84.26,
          9.060000000000002,
          75.67,
          41.400000000000006
         ],
         "yaxis": "y"
        },
        {
         "hovertemplate": "mdl=tri6b<br>snr=%{x}<br>acc=%{y}<extra></extra>",
         "legendgroup": "tri6b",
         "line": {
          "width": 2
         },
         "marker": {
          "color": "#EF553B",
          "size": 5,
          "symbol": "circle"
         },
         "mode": "markers",
         "name": "tri6b",
         "orientation": "v",
         "showlegend": true,
         "type": "scatter",
         "x": [
          -6,
          14,
          26,
          5,
          2,
          8,
          21,
          13,
          19,
          -1,
          17,
          -5,
          25,
          6,
          -10,
          1,
          28,
          22,
          -8,
          -2,
          10,
          20,
          18,
          12,
          9,
          3,
          4,
          -7,
          15,
          27,
          23,
          29,
          -3,
          -9,
          11,
          30,
          0,
          7,
          16,
          -4,
          24
         ],
         "xaxis": "x",
         "y": [
          1.7300000000000093,
          39.300000000000004,
          65.2,
          12.120000000000008,
          6.779999999999998,
          19.950000000000003,
          57.28,
          36.15999999999999,
          52.99,
          3.8700000000000068,
          48.1,
          2.0199999999999996,
          63.97999999999999,
          14.349999999999996,
          0.6200000000000094,
          5.720000000000002,
          67.24,
          59.14999999999999,
          1.2800000000000034,
          3.280000000000005,
          26.39,
          55.2,
          50.66,
          32.95999999999999,
          23.28,
          8.140000000000002,
          9.989999999999998,
          1.5900000000000025,
          42.32,
          66.35,
          61.07,
          68.05,
          2.749999999999997,
          0.9300000000000086,
          29.75,
          68.74,
          4.7800000000000065,
          16.92,
          45.41,
          2.3299999999999987,
          62.64000000000001
         ],
         "yaxis": "y"
        },
        {
         "hovertemplate": "mdl=wav2vec2-base-960h<br>snr=%{x}<br>acc=%{y}<extra></extra>",
         "legendgroup": "wav2vec2-base-960h",
         "line": {
          "width": 2
         },
         "marker": {
          "color": "#00cc96",
          "size": 5,
          "symbol": "circle"
         },
         "mode": "markers",
         "name": "wav2vec2-base-960h",
         "orientation": "v",
         "showlegend": true,
         "type": "scatter",
         "x": [
          26,
          3,
          9,
          14,
          -6,
          -1,
          13,
          19,
          4,
          -10,
          21,
          0,
          25,
          -5,
          17,
          10,
          -8,
          -2,
          28,
          22,
          7,
          18,
          12,
          5,
          20,
          27,
          8,
          2,
          15,
          -7,
          11,
          -3,
          -9,
          23,
          29,
          6,
          30,
          1,
          24,
          -4,
          16
         ],
         "xaxis": "x",
         "y": [
          88.99000000000001,
          15.450000000000008,
          51.81,
          74.49,
          0,
          3.410000000000002,
          70.93,
          84.48,
          20.310000000000006,
          0,
          86.37,
          5.249999999999999,
          88.55999999999999,
          0.0400000000000067,
          81.58,
          57.32999999999999,
          0,
          1.7800000000000038,
          89.56,
          87.07000000000001,
          39.32,
          83.21000000000001,
          66.97999999999999,
          26.260000000000005,
          85.57000000000001,
          89.3,
          45.86,
          10.970000000000002,
          77.49,
          0,
          62.46000000000001,
          0.6800000000000028,
          0,
          87.65,
          89.69,
          33.06,
          89.83,
          7.700000000000006,
          88.19,
          0.17000000000000348,
          79.75999999999999
         ],
         "yaxis": "y"
        },
        {
         "hovertemplate": "mdl=wav2vec2-large-960h-lv60<br>snr=%{x}<br>acc=%{y}<extra></extra>",
         "legendgroup": "wav2vec2-large-960h-lv60",
         "line": {
          "width": 2
         },
         "marker": {
          "color": "#ab63fa",
          "size": 5,
          "symbol": "circle"
         },
         "mode": "markers",
         "name": "wav2vec2-large-960h-lv60",
         "orientation": "v",
         "showlegend": true,
         "type": "scatter",
         "x": [
          0,
          26,
          -6,
          14,
          19,
          13,
          -1,
          21,
          7,
          3,
          9,
          25,
          17,
          -5,
          -2,
          -8,
          10,
          22,
          28,
          4,
          6,
          12,
          18,
          20,
          27,
          -7,
          15,
          1,
          30,
          5,
          -9,
          -3,
          11,
          29,
          23,
          24,
          16,
          -10,
          -4,
          8,
          2
         ],
         "xaxis": "x",
         "y": [
          22.450000000000003,
          95.03,
          2.6700000000000057,
          89.42999999999999,
          93.65,
          87.77000000000001,
          17.209999999999994,
          94.25,
          64.7,
          41.18999999999999,
          74.86,
          94.92,
          92.61,
          4.0000000000000036,
          12.650000000000006,
          0.9899999999999909,
          79.10000000000001,
          94.49,
          95.12,
          47.43999999999999,
          59.309999999999995,
          85.43,
          93.25,
          93.97999999999999,
          95.1,
          1.6900000000000026,
          90.71000000000001,
          28.43000000000001,
          95.22,
          53.410000000000004,
          0.5600000000000049,
          8.79000000000001,
          82.64,
          95.17,
          94.67999999999999,
          94.8,
          91.72,
          0.26999999999999247,
          6.120000000000003,
          70.00999999999999,
          34.760000000000005
         ],
         "yaxis": "y"
        }
       ],
       "layout": {
        "font": {
         "family": "Times New Roman",
         "size": 9
        },
        "height": 302,
        "legend": {
         "title": {
          "text": "Model"
         },
         "tracegroupgap": 0,
         "x": 0.01,
         "xanchor": "left",
         "y": 0.99,
         "yanchor": "top"
        },
        "margin": {
         "b": 0,
         "l": 0,
         "r": 10,
         "t": 10
        },
        "template": {
         "data": {
          "bar": [
           {
            "error_x": {
             "color": "#2a3f5f"
            },
            "error_y": {
             "color": "#2a3f5f"
            },
            "marker": {
             "line": {
              "color": "#E5ECF6",
              "width": 0.5
             },
             "pattern": {
              "fillmode": "overlay",
              "size": 10,
              "solidity": 0.2
             }
            },
            "type": "bar"
           }
          ],
          "barpolar": [
           {
            "marker": {
             "line": {
              "color": "#E5ECF6",
              "width": 0.5
             },
             "pattern": {
              "fillmode": "overlay",
              "size": 10,
              "solidity": 0.2
             }
            },
            "type": "barpolar"
           }
          ],
          "carpet": [
           {
            "aaxis": {
             "endlinecolor": "#2a3f5f",
             "gridcolor": "white",
             "linecolor": "white",
             "minorgridcolor": "white",
             "startlinecolor": "#2a3f5f"
            },
            "baxis": {
             "endlinecolor": "#2a3f5f",
             "gridcolor": "white",
             "linecolor": "white",
             "minorgridcolor": "white",
             "startlinecolor": "#2a3f5f"
            },
            "type": "carpet"
           }
          ],
          "choropleth": [
           {
            "colorbar": {
             "outlinewidth": 0,
             "ticks": ""
            },
            "type": "choropleth"
           }
          ],
          "contour": [
           {
            "colorbar": {
             "outlinewidth": 0,
             "ticks": ""
            },
            "colorscale": [
             [
              0,
              "#0d0887"
             ],
             [
              0.1111111111111111,
              "#46039f"
             ],
             [
              0.2222222222222222,
              "#7201a8"
             ],
             [
              0.3333333333333333,
              "#9c179e"
             ],
             [
              0.4444444444444444,
              "#bd3786"
             ],
             [
              0.5555555555555556,
              "#d8576b"
             ],
             [
              0.6666666666666666,
              "#ed7953"
             ],
             [
              0.7777777777777778,
              "#fb9f3a"
             ],
             [
              0.8888888888888888,
              "#fdca26"
             ],
             [
              1,
              "#f0f921"
             ]
            ],
            "type": "contour"
           }
          ],
          "contourcarpet": [
           {
            "colorbar": {
             "outlinewidth": 0,
             "ticks": ""
            },
            "type": "contourcarpet"
           }
          ],
          "heatmap": [
           {
            "colorbar": {
             "outlinewidth": 0,
             "ticks": ""
            },
            "colorscale": [
             [
              0,
              "#0d0887"
             ],
             [
              0.1111111111111111,
              "#46039f"
             ],
             [
              0.2222222222222222,
              "#7201a8"
             ],
             [
              0.3333333333333333,
              "#9c179e"
             ],
             [
              0.4444444444444444,
              "#bd3786"
             ],
             [
              0.5555555555555556,
              "#d8576b"
             ],
             [
              0.6666666666666666,
              "#ed7953"
             ],
             [
              0.7777777777777778,
              "#fb9f3a"
             ],
             [
              0.8888888888888888,
              "#fdca26"
             ],
             [
              1,
              "#f0f921"
             ]
            ],
            "type": "heatmap"
           }
          ],
          "heatmapgl": [
           {
            "colorbar": {
             "outlinewidth": 0,
             "ticks": ""
            },
            "colorscale": [
             [
              0,
              "#0d0887"
             ],
             [
              0.1111111111111111,
              "#46039f"
             ],
             [
              0.2222222222222222,
              "#7201a8"
             ],
             [
              0.3333333333333333,
              "#9c179e"
             ],
             [
              0.4444444444444444,
              "#bd3786"
             ],
             [
              0.5555555555555556,
              "#d8576b"
             ],
             [
              0.6666666666666666,
              "#ed7953"
             ],
             [
              0.7777777777777778,
              "#fb9f3a"
             ],
             [
              0.8888888888888888,
              "#fdca26"
             ],
             [
              1,
              "#f0f921"
             ]
            ],
            "type": "heatmapgl"
           }
          ],
          "histogram": [
           {
            "marker": {
             "pattern": {
              "fillmode": "overlay",
              "size": 10,
              "solidity": 0.2
             }
            },
            "type": "histogram"
           }
          ],
          "histogram2d": [
           {
            "colorbar": {
             "outlinewidth": 0,
             "ticks": ""
            },
            "colorscale": [
             [
              0,
              "#0d0887"
             ],
             [
              0.1111111111111111,
              "#46039f"
             ],
             [
              0.2222222222222222,
              "#7201a8"
             ],
             [
              0.3333333333333333,
              "#9c179e"
             ],
             [
              0.4444444444444444,
              "#bd3786"
             ],
             [
              0.5555555555555556,
              "#d8576b"
             ],
             [
              0.6666666666666666,
              "#ed7953"
             ],
             [
              0.7777777777777778,
              "#fb9f3a"
             ],
             [
              0.8888888888888888,
              "#fdca26"
             ],
             [
              1,
              "#f0f921"
             ]
            ],
            "type": "histogram2d"
           }
          ],
          "histogram2dcontour": [
           {
            "colorbar": {
             "outlinewidth": 0,
             "ticks": ""
            },
            "colorscale": [
             [
              0,
              "#0d0887"
             ],
             [
              0.1111111111111111,
              "#46039f"
             ],
             [
              0.2222222222222222,
              "#7201a8"
             ],
             [
              0.3333333333333333,
              "#9c179e"
             ],
             [
              0.4444444444444444,
              "#bd3786"
             ],
             [
              0.5555555555555556,
              "#d8576b"
             ],
             [
              0.6666666666666666,
              "#ed7953"
             ],
             [
              0.7777777777777778,
              "#fb9f3a"
             ],
             [
              0.8888888888888888,
              "#fdca26"
             ],
             [
              1,
              "#f0f921"
             ]
            ],
            "type": "histogram2dcontour"
           }
          ],
          "mesh3d": [
           {
            "colorbar": {
             "outlinewidth": 0,
             "ticks": ""
            },
            "type": "mesh3d"
           }
          ],
          "parcoords": [
           {
            "line": {
             "colorbar": {
              "outlinewidth": 0,
              "ticks": ""
             }
            },
            "type": "parcoords"
           }
          ],
          "pie": [
           {
            "automargin": true,
            "type": "pie"
           }
          ],
          "scatter": [
           {
            "fillpattern": {
             "fillmode": "overlay",
             "size": 10,
             "solidity": 0.2
            },
            "type": "scatter"
           }
          ],
          "scatter3d": [
           {
            "line": {
             "colorbar": {
              "outlinewidth": 0,
              "ticks": ""
             }
            },
            "marker": {
             "colorbar": {
              "outlinewidth": 0,
              "ticks": ""
             }
            },
            "type": "scatter3d"
           }
          ],
          "scattercarpet": [
           {
            "marker": {
             "colorbar": {
              "outlinewidth": 0,
              "ticks": ""
             }
            },
            "type": "scattercarpet"
           }
          ],
          "scattergeo": [
           {
            "marker": {
             "colorbar": {
              "outlinewidth": 0,
              "ticks": ""
             }
            },
            "type": "scattergeo"
           }
          ],
          "scattergl": [
           {
            "marker": {
             "colorbar": {
              "outlinewidth": 0,
              "ticks": ""
             }
            },
            "type": "scattergl"
           }
          ],
          "scattermapbox": [
           {
            "marker": {
             "colorbar": {
              "outlinewidth": 0,
              "ticks": ""
             }
            },
            "type": "scattermapbox"
           }
          ],
          "scatterpolar": [
           {
            "marker": {
             "colorbar": {
              "outlinewidth": 0,
              "ticks": ""
             }
            },
            "type": "scatterpolar"
           }
          ],
          "scatterpolargl": [
           {
            "marker": {
             "colorbar": {
              "outlinewidth": 0,
              "ticks": ""
             }
            },
            "type": "scatterpolargl"
           }
          ],
          "scatterternary": [
           {
            "marker": {
             "colorbar": {
              "outlinewidth": 0,
              "ticks": ""
             }
            },
            "type": "scatterternary"
           }
          ],
          "surface": [
           {
            "colorbar": {
             "outlinewidth": 0,
             "ticks": ""
            },
            "colorscale": [
             [
              0,
              "#0d0887"
             ],
             [
              0.1111111111111111,
              "#46039f"
             ],
             [
              0.2222222222222222,
              "#7201a8"
             ],
             [
              0.3333333333333333,
              "#9c179e"
             ],
             [
              0.4444444444444444,
              "#bd3786"
             ],
             [
              0.5555555555555556,
              "#d8576b"
             ],
             [
              0.6666666666666666,
              "#ed7953"
             ],
             [
              0.7777777777777778,
              "#fb9f3a"
             ],
             [
              0.8888888888888888,
              "#fdca26"
             ],
             [
              1,
              "#f0f921"
             ]
            ],
            "type": "surface"
           }
          ],
          "table": [
           {
            "cells": {
             "fill": {
              "color": "#EBF0F8"
             },
             "line": {
              "color": "white"
             }
            },
            "header": {
             "fill": {
              "color": "#C8D4E3"
             },
             "line": {
              "color": "white"
             }
            },
            "type": "table"
           }
          ]
         },
         "layout": {
          "annotationdefaults": {
           "arrowcolor": "#2a3f5f",
           "arrowhead": 0,
           "arrowwidth": 1
          },
          "autotypenumbers": "strict",
          "coloraxis": {
           "colorbar": {
            "outlinewidth": 0,
            "ticks": ""
           }
          },
          "colorscale": {
           "diverging": [
            [
             0,
             "#8e0152"
            ],
            [
             0.1,
             "#c51b7d"
            ],
            [
             0.2,
             "#de77ae"
            ],
            [
             0.3,
             "#f1b6da"
            ],
            [
             0.4,
             "#fde0ef"
            ],
            [
             0.5,
             "#f7f7f7"
            ],
            [
             0.6,
             "#e6f5d0"
            ],
            [
             0.7,
             "#b8e186"
            ],
            [
             0.8,
             "#7fbc41"
            ],
            [
             0.9,
             "#4d9221"
            ],
            [
             1,
             "#276419"
            ]
           ],
           "sequential": [
            [
             0,
             "#0d0887"
            ],
            [
             0.1111111111111111,
             "#46039f"
            ],
            [
             0.2222222222222222,
             "#7201a8"
            ],
            [
             0.3333333333333333,
             "#9c179e"
            ],
            [
             0.4444444444444444,
             "#bd3786"
            ],
            [
             0.5555555555555556,
             "#d8576b"
            ],
            [
             0.6666666666666666,
             "#ed7953"
            ],
            [
             0.7777777777777778,
             "#fb9f3a"
            ],
            [
             0.8888888888888888,
             "#fdca26"
            ],
            [
             1,
             "#f0f921"
            ]
           ],
           "sequentialminus": [
            [
             0,
             "#0d0887"
            ],
            [
             0.1111111111111111,
             "#46039f"
            ],
            [
             0.2222222222222222,
             "#7201a8"
            ],
            [
             0.3333333333333333,
             "#9c179e"
            ],
            [
             0.4444444444444444,
             "#bd3786"
            ],
            [
             0.5555555555555556,
             "#d8576b"
            ],
            [
             0.6666666666666666,
             "#ed7953"
            ],
            [
             0.7777777777777778,
             "#fb9f3a"
            ],
            [
             0.8888888888888888,
             "#fdca26"
            ],
            [
             1,
             "#f0f921"
            ]
           ]
          },
          "colorway": [
           "#636efa",
           "#EF553B",
           "#00cc96",
           "#ab63fa",
           "#FFA15A",
           "#19d3f3",
           "#FF6692",
           "#B6E880",
           "#FF97FF",
           "#FECB52"
          ],
          "font": {
           "color": "#2a3f5f"
          },
          "geo": {
           "bgcolor": "white",
           "lakecolor": "white",
           "landcolor": "#E5ECF6",
           "showlakes": true,
           "showland": true,
           "subunitcolor": "white"
          },
          "hoverlabel": {
           "align": "left"
          },
          "hovermode": "closest",
          "mapbox": {
           "style": "light"
          },
          "paper_bgcolor": "white",
          "plot_bgcolor": "#E5ECF6",
          "polar": {
           "angularaxis": {
            "gridcolor": "white",
            "linecolor": "white",
            "ticks": ""
           },
           "bgcolor": "#E5ECF6",
           "radialaxis": {
            "gridcolor": "white",
            "linecolor": "white",
            "ticks": ""
           }
          },
          "scene": {
           "xaxis": {
            "backgroundcolor": "#E5ECF6",
            "gridcolor": "white",
            "gridwidth": 2,
            "linecolor": "white",
            "showbackground": true,
            "ticks": "",
            "zerolinecolor": "white"
           },
           "yaxis": {
            "backgroundcolor": "#E5ECF6",
            "gridcolor": "white",
            "gridwidth": 2,
            "linecolor": "white",
            "showbackground": true,
            "ticks": "",
            "zerolinecolor": "white"
           },
           "zaxis": {
            "backgroundcolor": "#E5ECF6",
            "gridcolor": "white",
            "gridwidth": 2,
            "linecolor": "white",
            "showbackground": true,
            "ticks": "",
            "zerolinecolor": "white"
           }
          },
          "shapedefaults": {
           "line": {
            "color": "#2a3f5f"
           }
          },
          "ternary": {
           "aaxis": {
            "gridcolor": "white",
            "linecolor": "white",
            "ticks": ""
           },
           "baxis": {
            "gridcolor": "white",
            "linecolor": "white",
            "ticks": ""
           },
           "bgcolor": "#E5ECF6",
           "caxis": {
            "gridcolor": "white",
            "linecolor": "white",
            "ticks": ""
           }
          },
          "title": {
           "x": 0.05
          },
          "xaxis": {
           "automargin": true,
           "gridcolor": "white",
           "linecolor": "white",
           "ticks": "",
           "title": {
            "standoff": 15
           },
           "zerolinecolor": "white",
           "zerolinewidth": 2
          },
          "yaxis": {
           "automargin": true,
           "gridcolor": "white",
           "linecolor": "white",
           "ticks": "",
           "title": {
            "standoff": 15
           },
           "zerolinecolor": "white",
           "zerolinewidth": 2
          }
         }
        },
        "width": 302,
        "xaxis": {
         "anchor": "y",
         "domain": [
          0,
          1
         ],
         "range": [
          -11,
          31
         ],
         "tickformat": "d",
         "title": {
          "text": "SNR (dB)"
         }
        },
        "yaxis": {
         "anchor": "x",
         "domain": [
          0,
          1
         ],
         "range": [
          0,
          100
         ],
         "tickformat": "d",
         "title": {
          "text": "Accuracy (%)"
         }
        }
       }
      }
     },
     "metadata": {},
     "output_type": "display_data"
    }
   ],
   "source": [
    "# Zhang et al (2023) \"Estimate the noise effect on automatic speech recognition\n",
    "# accuracy for mandarin by an approach associating articulation index\"\n",
    "# FIXME(sdrobert): the fit is very bad if we use eq. 12\n",
    "\n",
    "latlm = 'tgsmall'\n",
    "reslm = 'tgsmall'\n",
    "part = 'dev-other'\n",
    "desc = f\"({part} partition, {latlm} lattice LM, and {reslm} rescoring lm)\"\n",
    "num_points = 100\n",
    "fit_inverse = False\n",
    "\n",
    "df = wer_df.replace(dict(latlm=dict(null=latlm), reslm=dict(null=reslm)))\n",
    "df = df.loc[\n",
    "    (df['latlm'] == latlm) &\n",
    "    (df['reslm'] == reslm) &\n",
    "    (df['part'] == part)\n",
    "].copy()\n",
    "\n",
    "idx = np.isinf(df['snr'])\n",
    "df, Ainvs = df.loc[~idx], df.loc[idx, ['mdl', 'acc']]\n",
    "snr_min = df['snr'].min() - 1\n",
    "snr_max = df['snr'].max() + 1\n",
    "x_interp = np.linspace(snr_min, snr_max, num_points)\n",
    "\n",
    "mdls = df['mdl'].unique()\n",
    "assert all(mdls == Ainvs['mdl'].unique())\n",
    "\n",
    "df['acc'] *= 100\n",
    "\n",
    "# fit = []\n",
    "# fig = go.Figure()\n",
    "# for mdl_idx, mdl in enumerate(mdls):\n",
    "#     colour = px.colors.qualitative.Plotly[mdl_idx]\n",
    "#     df_ = df.loc[df['mdl'] == mdl]\n",
    "#     Ainv = Ainvs.loc[Ainvs['mdl'] == mdl, 'acc'].iloc[0]\n",
    "#     A_init = 1 / Ainv\n",
    "#     N = len(df_)\n",
    "#     x = df_['snr'].array\n",
    "#     y = df_['acc'].array\n",
    "#     A, B, C = zhang_fit(x, y, fit_inverse)\n",
    "#     y_pred = zhang_func(x, A, B, C)\n",
    "#     r2 = r2_score(y, y_pred)\n",
    "#     fit.append(dict(mdl=mdl, A=A, B=B, C=C, r2=r2))\n",
    "#     y_interp = zhang_func(x_interp, A, B, C)\n",
    "#     fig.add_scatter(\n",
    "#         x=x_interp, y=y_interp * 100,\n",
    "#         name=f\"{mdl} fit\",\n",
    "#         mode='lines',\n",
    "#         opacity=0.5,\n",
    "#         showlegend=False,\n",
    "#         line=dict(color=colour),\n",
    "#     )\n",
    "#     fig.add_scatter(\n",
    "#         x=x, y=df_['acc'] * 100,\n",
    "#         name=mdl, mode='markers',\n",
    "#         marker=dict(color=colour),\n",
    "#     )\n",
    "#     # fig.add_annotation(\n",
    "#     #     x=x_interp[ratio * (mdl_idx + 1)], y=y_interp[ratio * (mdl_idx + 1)] * 100,\n",
    "#     #     text=f\"A={A:.02f},B={B:.02f},C={C:.02f}\",\n",
    "#     #     showarrow=True,\n",
    "#     #     font=dict(color=colour, size=FONT_SIZE),\n",
    "#     # )\n",
    "# print(f\"Zhang et al fits by model {desc}\")\n",
    "# display(pd.DataFrame.from_records(fit).round(3))\n",
    "\n",
    "fig = px.scatter(\n",
    "    df, x='snr', y='acc', color='mdl',\n",
    ")\n",
    "\n",
    "fig.update_traces(marker=dict(size=5), line=dict(width=2))\n",
    "fig.update_layout(\n",
    "    xaxis=dict(title='SNR (dB)', range=[snr_min, snr_max], tickformat='d'),\n",
    "    yaxis=dict(title='Accuracy (%)', range=[0, 100], tickformat='d'),\n",
    "    legend=dict(title='Model', yanchor=\"top\", y=0.99, xanchor='left', x=0.01),\n",
    "    margin=dict(l=0, r=10, t=10, b=0),\n",
    "    font=FONT,\n",
    "    width=COL_SIZE_PX, height=COL_SIZE_PX,\n",
    ")\n",
    "fig.show()\n",
    "# fig.write_image(format_fig_path(\"zhang\", latlm=latlm, reslm=reslm, part=part))\n"
   ]
  },
  {
   "cell_type": "markdown",
   "metadata": {},
   "source": [
    "## Perplexity vs. WER"
   ]
  },
  {
   "cell_type": "code",
   "execution_count": null,
   "metadata": {},
   "outputs": [],
   "source": [
    "# wer by perp\n",
    "\n",
    "perplm = 'tgsmall'\n",
    "\n",
    "mdl = 'tdnn_1d_sp'\n",
    "latlm = reslm = 'tgsmall'\n",
    "num_points = 100\n",
    "part = 'dev-clean'\n",
    "print(\n",
    "    f\"mdl {mdl}, partition {part}, lattice LM {latlm}, rescore LM {reslm}, \"\n",
    "    f\"perlexity LM {perplm}\"\n",
    ")\n",
    "\n",
    "df = perp_df.loc[(perp_df['perplm'] == perplm) & (perp_df['part'] == part)]\n",
    "df = df.merge(uttwer_df.loc[\n",
    "    (uttwer_df['reslm'] == reslm) &\n",
    "    (uttwer_df['latlm'] == latlm) &\n",
    "    (uttwer_df['mdl'] == mdl)\n",
    "], on=['utt', 'part'])\n",
    "df = df.loc[df['snr'].isnull()]  # without noise\n",
    "ymin, ymax = df['wer'].quantile(0.05), df['wer'].quantile(0.95)\n",
    "xmin, xmax = df['perp'].quantile(0.05), df['perp'].quantile(0.95)\n",
    "perp_interp = np.linspace(xmin, xmax, num_points)\n",
    "\n",
    "print(\"per-utterance WER by perplexity\")\n",
    "fig = px.scatter(df, x='perp', y='wer')\n",
    "fig.update_xaxes(type='log', range=[np.log10(xmin), np.log10(xmax)])\n",
    "fig.update_yaxes(range=[ymin, ymax])\n",
    "fig.show()"
   ]
  },
  {
   "cell_type": "markdown",
   "metadata": {},
   "source": [
    "## Boothroyd and Nittrouer"
   ]
  },
  {
   "cell_type": "code",
   "execution_count": 172,
   "metadata": {},
   "outputs": [
    {
     "data": {
      "text/html": [
       "<div>\n",
       "<style scoped>\n",
       "    .dataframe tbody tr th:only-of-type {\n",
       "        vertical-align: middle;\n",
       "    }\n",
       "\n",
       "    .dataframe tbody tr th {\n",
       "        vertical-align: top;\n",
       "    }\n",
       "\n",
       "    .dataframe thead tr th {\n",
       "        text-align: left;\n",
       "    }\n",
       "\n",
       "    .dataframe thead tr:last-of-type th {\n",
       "        text-align: right;\n",
       "    }\n",
       "</style>\n",
       "<table border=\"1\" class=\"dataframe\">\n",
       "  <thead>\n",
       "    <tr>\n",
       "      <th></th>\n",
       "      <th></th>\n",
       "      <th colspan=\"2\" halign=\"left\">coef</th>\n",
       "      <th colspan=\"2\" halign=\"left\">se</th>\n",
       "      <th colspan=\"2\" halign=\"left\">ci_low</th>\n",
       "      <th colspan=\"2\" halign=\"left\">ci_high</th>\n",
       "    </tr>\n",
       "    <tr>\n",
       "      <th></th>\n",
       "      <th>name</th>\n",
       "      <th>ent_bin_in[(3.4,4.3]]</th>\n",
       "      <th>ent_bin_in[(4.3,5.0]]</th>\n",
       "      <th>ent_bin_in[(3.4,4.3]]</th>\n",
       "      <th>ent_bin_in[(4.3,5.0]]</th>\n",
       "      <th>ent_bin_in[(3.4,4.3]]</th>\n",
       "      <th>ent_bin_in[(4.3,5.0]]</th>\n",
       "      <th>ent_bin_in[(3.4,4.3]]</th>\n",
       "      <th>ent_bin_in[(4.3,5.0]]</th>\n",
       "    </tr>\n",
       "    <tr>\n",
       "      <th>nlf</th>\n",
       "      <th>b</th>\n",
       "      <th></th>\n",
       "      <th></th>\n",
       "      <th></th>\n",
       "      <th></th>\n",
       "      <th></th>\n",
       "      <th></th>\n",
       "      <th></th>\n",
       "      <th></th>\n",
       "    </tr>\n",
       "  </thead>\n",
       "  <tbody>\n",
       "    <tr>\n",
       "      <th rowspan=\"6\" valign=\"top\">False</th>\n",
       "      <th>0.00</th>\n",
       "      <td>1.31</td>\n",
       "      <td>1.16</td>\n",
       "      <td>0.05</td>\n",
       "      <td>0.05</td>\n",
       "      <td>1.29</td>\n",
       "      <td>1.16</td>\n",
       "      <td>1.42</td>\n",
       "      <td>1.25</td>\n",
       "    </tr>\n",
       "    <tr>\n",
       "      <th>0.10</th>\n",
       "      <td>1.40</td>\n",
       "      <td>1.23</td>\n",
       "      <td>0.07</td>\n",
       "      <td>0.01</td>\n",
       "      <td>1.36</td>\n",
       "      <td>1.23</td>\n",
       "      <td>1.49</td>\n",
       "      <td>1.25</td>\n",
       "    </tr>\n",
       "    <tr>\n",
       "      <th>0.25</th>\n",
       "      <td>1.44</td>\n",
       "      <td>1.26</td>\n",
       "      <td>0.04</td>\n",
       "      <td>0.01</td>\n",
       "      <td>1.40</td>\n",
       "      <td>1.25</td>\n",
       "      <td>1.54</td>\n",
       "      <td>1.28</td>\n",
       "    </tr>\n",
       "    <tr>\n",
       "      <th>0.50</th>\n",
       "      <td>1.58</td>\n",
       "      <td>1.28</td>\n",
       "      <td>0.02</td>\n",
       "      <td>0.02</td>\n",
       "      <td>1.56</td>\n",
       "      <td>1.25</td>\n",
       "      <td>1.61</td>\n",
       "      <td>1.31</td>\n",
       "    </tr>\n",
       "    <tr>\n",
       "      <th>0.75</th>\n",
       "      <td>1.72</td>\n",
       "      <td>1.32</td>\n",
       "      <td>0.12</td>\n",
       "      <td>0.08</td>\n",
       "      <td>1.70</td>\n",
       "      <td>1.29</td>\n",
       "      <td>1.79</td>\n",
       "      <td>1.32</td>\n",
       "    </tr>\n",
       "    <tr>\n",
       "      <th>0.90</th>\n",
       "      <td>1.77</td>\n",
       "      <td>1.29</td>\n",
       "      <td>0.09</td>\n",
       "      <td>0.13</td>\n",
       "      <td>1.59</td>\n",
       "      <td>1.18</td>\n",
       "      <td>1.79</td>\n",
       "      <td>1.34</td>\n",
       "    </tr>\n",
       "    <tr>\n",
       "      <th rowspan=\"6\" valign=\"top\">True</th>\n",
       "      <th>0.00</th>\n",
       "      <td>1.50</td>\n",
       "      <td>1.24</td>\n",
       "      <td>0.06</td>\n",
       "      <td>0.03</td>\n",
       "      <td>1.40</td>\n",
       "      <td>1.20</td>\n",
       "      <td>1.62</td>\n",
       "      <td>1.29</td>\n",
       "    </tr>\n",
       "    <tr>\n",
       "      <th>0.10</th>\n",
       "      <td>1.56</td>\n",
       "      <td>1.27</td>\n",
       "      <td>0.05</td>\n",
       "      <td>0.02</td>\n",
       "      <td>1.47</td>\n",
       "      <td>1.23</td>\n",
       "      <td>1.65</td>\n",
       "      <td>1.29</td>\n",
       "    </tr>\n",
       "    <tr>\n",
       "      <th>0.25</th>\n",
       "      <td>1.58</td>\n",
       "      <td>1.27</td>\n",
       "      <td>0.04</td>\n",
       "      <td>0.02</td>\n",
       "      <td>1.50</td>\n",
       "      <td>1.24</td>\n",
       "      <td>1.66</td>\n",
       "      <td>1.29</td>\n",
       "    </tr>\n",
       "    <tr>\n",
       "      <th>0.50</th>\n",
       "      <td>1.64</td>\n",
       "      <td>1.28</td>\n",
       "      <td>0.04</td>\n",
       "      <td>0.02</td>\n",
       "      <td>1.59</td>\n",
       "      <td>1.25</td>\n",
       "      <td>1.74</td>\n",
       "      <td>1.30</td>\n",
       "    </tr>\n",
       "    <tr>\n",
       "      <th>0.75</th>\n",
       "      <td>1.68</td>\n",
       "      <td>1.28</td>\n",
       "      <td>0.06</td>\n",
       "      <td>0.05</td>\n",
       "      <td>1.57</td>\n",
       "      <td>1.13</td>\n",
       "      <td>1.75</td>\n",
       "      <td>1.32</td>\n",
       "    </tr>\n",
       "    <tr>\n",
       "      <th>0.90</th>\n",
       "      <td>1.66</td>\n",
       "      <td>1.26</td>\n",
       "      <td>0.07</td>\n",
       "      <td>0.08</td>\n",
       "      <td>1.51</td>\n",
       "      <td>1.00</td>\n",
       "      <td>1.78</td>\n",
       "      <td>1.33</td>\n",
       "    </tr>\n",
       "  </tbody>\n",
       "</table>\n",
       "</div>"
      ],
      "text/plain": [
       "                            coef                                          se  \\\n",
       "name       ent_bin_in[(3.4,4.3]] ent_bin_in[(4.3,5.0]] ent_bin_in[(3.4,4.3]]   \n",
       "nlf   b                                                                        \n",
       "False 0.00                  1.31                  1.16                  0.05   \n",
       "      0.10                  1.40                  1.23                  0.07   \n",
       "      0.25                  1.44                  1.26                  0.04   \n",
       "      0.50                  1.58                  1.28                  0.02   \n",
       "      0.75                  1.72                  1.32                  0.12   \n",
       "      0.90                  1.77                  1.29                  0.09   \n",
       "True  0.00                  1.50                  1.24                  0.06   \n",
       "      0.10                  1.56                  1.27                  0.05   \n",
       "      0.25                  1.58                  1.27                  0.04   \n",
       "      0.50                  1.64                  1.28                  0.04   \n",
       "      0.75                  1.68                  1.28                  0.06   \n",
       "      0.90                  1.66                  1.26                  0.07   \n",
       "\n",
       "                                                ci_low                        \\\n",
       "name       ent_bin_in[(4.3,5.0]] ent_bin_in[(3.4,4.3]] ent_bin_in[(4.3,5.0]]   \n",
       "nlf   b                                                                        \n",
       "False 0.00                  0.05                  1.29                  1.16   \n",
       "      0.10                  0.01                  1.36                  1.23   \n",
       "      0.25                  0.01                  1.40                  1.25   \n",
       "      0.50                  0.02                  1.56                  1.25   \n",
       "      0.75                  0.08                  1.70                  1.29   \n",
       "      0.90                  0.13                  1.59                  1.18   \n",
       "True  0.00                  0.03                  1.40                  1.20   \n",
       "      0.10                  0.02                  1.47                  1.23   \n",
       "      0.25                  0.02                  1.50                  1.24   \n",
       "      0.50                  0.02                  1.59                  1.25   \n",
       "      0.75                  0.05                  1.57                  1.13   \n",
       "      0.90                  0.08                  1.51                  1.00   \n",
       "\n",
       "                         ci_high                        \n",
       "name       ent_bin_in[(3.4,4.3]] ent_bin_in[(4.3,5.0]]  \n",
       "nlf   b                                                 \n",
       "False 0.00                  1.42                  1.25  \n",
       "      0.10                  1.49                  1.25  \n",
       "      0.25                  1.54                  1.28  \n",
       "      0.50                  1.61                  1.31  \n",
       "      0.75                  1.79                  1.32  \n",
       "      0.90                  1.79                  1.34  \n",
       "True  0.00                  1.62                  1.29  \n",
       "      0.10                  1.65                  1.29  \n",
       "      0.25                  1.66                  1.29  \n",
       "      0.50                  1.74                  1.30  \n",
       "      0.75                  1.75                  1.32  \n",
       "      0.90                  1.78                  1.33  "
      ]
     },
     "metadata": {},
     "output_type": "display_data"
    },
    {
     "name": "stderr",
     "output_type": "stream",
     "text": [
      "/u/sdrobert/Scratch2/mamba-envs/kaldi-boothroyd/lib/python3.10/site-packages/plotly/express/_core.py:2044: FutureWarning:\n",
      "\n",
      "The default of observed=False is deprecated and will be changed to True in a future version of pandas. Pass observed=False to retain current behavior or observed=True to adopt the future default and silence this warning.\n",
      "\n",
      "/u/sdrobert/Scratch2/mamba-envs/kaldi-boothroyd/lib/python3.10/site-packages/plotly/express/_core.py:2065: FutureWarning:\n",
      "\n",
      "When grouping with a length-1 list-like, you will need to pass a length-1 tuple to get_group in a future version of pandas. Pass `(name,)` instead of `name` to silence this warning.\n",
      "\n"
     ]
    },
    {
     "data": {
      "application/vnd.plotly.v1+json": {
       "config": {
        "plotlyServerURL": "https://plot.ly"
       },
       "data": [
        {
         "hovertemplate": "ent_bin_in=(3.4,4.3]<br>wer_out=%{x}<br>wer_in=%{y}<extra></extra>",
         "legendgroup": "(3.4,4.3]",
         "marker": {
          "color": "#636efa",
          "symbol": "circle"
         },
         "mode": "markers",
         "name": "(3.4,4.3]",
         "orientation": "v",
         "showlegend": true,
         "type": "scatter",
         "x": [
          0.9982477978971963,
          0.9979791632362847,
          0.9978405640602173,
          0.9975254749253949,
          0.9966705957943924,
          0.9964448357158895,
          0.995808009909166,
          0.9961425504039596,
          0.9932827628504672,
          0.994311963924856,
          0.9915529759258083,
          0.993522709076352,
          0.9888433469626169,
          0.9904572225132848,
          0.9827872578288763,
          0.9889368221850208,
          0.9817759579439254,
          0.9848812326921638,
          0.9731317220351902,
          0.9826790814469757,
          0.9755836740654206,
          0.9744781678018113,
          0.9605539604903767,
          0.9725618749545091,
          0.9651873189252337,
          0.9603699274006436,
          0.9402925490694277,
          0.9586593129048694,
          0.9537968457943925,
          0.9399749419953596,
          0.9139964809756717,
          0.9418454691025547,
          0.9365073948598132,
          0.9187568557742685,
          0.8802638442482373,
          0.9178263629085086,
          0.9162388843457944,
          0.8922622595614101,
          0.8373877659912342,
          0.8826696047747289,
          0.8974890887850467,
          0.8658791258139361,
          0.7804112240360795,
          0.8423466627847732,
          0.8801416880841122,
          0.8337711286580346,
          0.7159356221812869,
          0.7895062741101972,
          0.8606323130841121,
          0.7990431180300877,
          0.6435227466175444,
          0.7344051386563797,
          0.8411233820093459,
          0.7599739989521742,
          0.5815261640094009,
          0.6781438605429798,
          0.8151890829439252,
          0.7214293241523838,
          0.5089237692942895,
          0.620640774437732,
          0.7932840362149532,
          0.6821348214953972,
          0.44616544495966465,
          0.5648886090690735,
          0.771671839953271,
          0.6431782089663947,
          0.3738776980245188,
          0.5043310794089818,
          0.7535641063084112,
          0.6042582478856373,
          0.3042616972622753,
          0.44777628648373247,
          0.731308785046729,
          0.5672098271087493,
          0.24106045861652797,
          0.3886007060193609,
          0.7108646028037383,
          0.5307235723373999,
          0.1884647335323636,
          0.3336472741829828,
          0.6927575175233645,
          0.4983158708180525,
          0.14685819094200597,
          0.2832074386782153,
          0.6754095268691589,
          0.47256882718359405,
          0.11280978847741854,
          0.23873313923866366,
          0.6590539077102804,
          0.4476457563056658,
          0.09165792415676809,
          0.20474448649828955,
          0.6387853212616822,
          0.423770028440985,
          0.07431715047957822,
          0.172135031661693,
          0.6244741530373832,
          0.4022895217423846,
          0.06129459442291812,
          0.1511730184147318,
          0.6127336507009346,
          0.3831677831000674,
          0.05227446484151686,
          0.13152196666424049,
          0.6008760163551402,
          0.36767478856373026,
          0.04636860827034237,
          0.11704043962442681,
          0.5912961448598131,
          0.35263051792530503,
          0.042366251667407734,
          0.10342843001674065,
          0.5808987207943925,
          0.3394577090038171,
          0.039190205170551995,
          0.09425544799475945,
          0.5715533528037383,
          0.32748321607664094,
          0.03696773169027504,
          0.08937948176723197,
          0.5639007943925233,
          0.3166678616869995,
          0.0356338817252112,
          0.0852299803479147,
          0.5565997021028037,
          0.30854677045131357,
          0.035380505621546085,
          0.08159136036101608,
          0.5505833644859813,
          0.29978919242571667,
          0.03461816680429397,
          0.07867929252492903,
          0.545794304906542,
          0.29365225656762217,
          0.03455443689258718,
          0.07591294126210058,
          0.5382595268691589,
          0.286054876132026,
          0.03366486692498253,
          0.07460267850644152,
          0.532885636682243,
          0.278982288002395,
          0.033411014419106905,
          0.07358382706164932,
          0.5302572021028038,
          0.27269599580869697,
          0.0329021279298736,
          0.07263711332702526,
          0.5285629848130841,
          0.26775583788638574,
          0.03296531791907514,
          0.0718366329427178,
          0.5270433235981309,
          0.26397617319062944,
          0.032711166867814265,
          0.0720550767887037,
          0.5243571612149532,
          0.2601962427961979,
          0.03264792606237693,
          0.07161797801877866,
          0.5215533294392524,
          0.25611747249457373,
          0.032838436130343644,
          0.0711814906470631
         ],
         "xaxis": "x",
         "y": [
          0.9969490450898406,
          0.9979424619956567,
          0.9965062888612543,
          0.997246638751864,
          0.993671533506611,
          0.9957709109612527,
          0.9921243323266418,
          0.9935181255018928,
          0.9898295513617359,
          0.9933708080923535,
          0.9852548646888138,
          0.9871513536767236,
          0.9818053791388858,
          0.9857124585666932,
          0.9749516610410374,
          0.9788910232878283,
          0.9712965193807209,
          0.9767981597896903,
          0.9543443950968201,
          0.967075553516118,
          0.9557014690925528,
          0.9587391244713681,
          0.9279346005803281,
          0.9522206148904441,
          0.9378466832410443,
          0.9338203451823066,
          0.8935898264937526,
          0.9288162957439486,
          0.9133246355520397,
          0.8999894502228827,
          0.8479920945105702,
          0.8982454227371802,
          0.8878982483896485,
          0.8685581323579837,
          0.7882998164268372,
          0.8553995411265343,
          0.8574996157757939,
          0.8191799177048806,
          0.721737508142358,
          0.8089942411380062,
          0.826987930839643,
          0.7726613212938621,
          0.6450530763309055,
          0.7526680910863829,
          0.7987353825290994,
          0.7225973596982512,
          0.5717420145674188,
          0.6884246587128598,
          0.7731965306814329,
          0.675049845696651,
          0.49019854325812756,
          0.6217168635998623,
          0.7397457904848006,
          0.6281863984455367,
          0.41096557114940485,
          0.5556951359412642,
          0.7081037066335178,
          0.5809803748999885,
          0.33789385325990406,
          0.49150940690604566,
          0.6777057859645158,
          0.5368592867756314,
          0.27026618700775745,
          0.4265222209475737,
          0.6483225449203299,
          0.4896558806720769,
          0.21235222360395573,
          0.36847639669611104,
          0.6188285342976608,
          0.45045150302891757,
          0.16278677681056436,
          0.316621796489618,
          0.5897857611029494,
          0.4160487598582695,
          0.11884766388346064,
          0.2659164391419066,
          0.5644702791275851,
          0.38232840324608525,
          0.0863976431574584,
          0.21848049214179188,
          0.5426607526274155,
          0.3527258772431135,
          0.06288812696156808,
          0.17867339681082942,
          0.5219812634195955,
          0.331122082523717,
          0.0463661573991828,
          0.1456931570494436,
          0.5054814668324105,
          0.3099765573208367,
          0.03487737312725765,
          0.11873454170012619,
          0.4857063170979771,
          0.294319030746371,
          0.027830686326760227,
          0.09900127337386716,
          0.4690930500621539,
          0.27545798376957364,
          0.025047811926333867,
          0.08334241711598027,
          0.45700122047689,
          0.26162791176134415,
          0.021257677503404983,
          0.0718127738900998,
          0.44683080574076167,
          0.24733975311464168,
          0.019007094214484516,
          0.06206256166112194,
          0.43361069047349987,
          0.23590929249057035,
          0.017172108722686086,
          0.055237398187449806,
          0.4240041925641316,
          0.2267669562235684,
          0.016164961212767216,
          0.05001791327291499,
          0.4131548197536445,
          0.21853700994399358,
          0.014980742583052051,
          0.046920092921876794,
          0.4033230760537914,
          0.20779341639044463,
          0.014803049683188251,
          0.043592468739245153,
          0.39642903152898634,
          0.20070651503028916,
          0.014625291644460236,
          0.041355535161179305,
          0.38840520962820657,
          0.19327807749457082,
          0.014388642150766861,
          0.03837284042675232,
          0.38173823030850945,
          0.18859087895759516,
          0.014211292710368922,
          0.03642228404267523,
          0.3778957509323087,
          0.1839042862041376,
          0.014033789305382838,
          0.035275037283469084,
          0.3745055034467172,
          0.17853188935878386,
          0.013856214839817612,
          0.03452953997935069,
          0.37326236862922363,
          0.17156048691279002,
          0.01391540830224433,
          0.03321089250889067,
          0.37280996722793536,
          0.16687463710138303,
          0.013915538579972759,
          0.032579723528736955,
          0.3693070855463894,
          0.16504642816321866,
          0.013797122046544678,
          0.03257966043363542,
          0.36648151203525825,
          0.16458950737227113,
          0.013737910818973175,
          0.031776287713662955,
          0.3669330432817267,
          0.1607035204023317,
          0.013915585953692189,
          0.0312600894803258
         ],
         "yaxis": "y"
        },
        {
         "hovertemplate": "ent_bin_in=(4.3,5.0]<br>wer_out=%{x}<br>wer_in=%{y}<extra></extra>",
         "legendgroup": "(4.3,5.0]",
         "marker": {
          "color": "#EF553B",
          "symbol": "circle"
         },
         "mode": "markers",
         "name": "(4.3,5.0]",
         "orientation": "v",
         "showlegend": true,
         "type": "scatter",
         "x": [
          0.9982477978971963,
          0.9979791632362847,
          0.9978405640602173,
          0.9975254749253949,
          0.9966705957943924,
          0.9964448357158895,
          0.995808009909166,
          0.9961425504039596,
          0.9932827628504672,
          0.994311963924856,
          0.9915529759258083,
          0.993522709076352,
          0.9888433469626169,
          0.9904572225132848,
          0.9827872578288763,
          0.9889368221850208,
          0.9817759579439254,
          0.9848812326921638,
          0.9731317220351902,
          0.9826790814469757,
          0.9755836740654206,
          0.9744781678018113,
          0.9605539604903767,
          0.9725618749545091,
          0.9651873189252337,
          0.9603699274006436,
          0.9402925490694277,
          0.9586593129048694,
          0.9537968457943925,
          0.9399749419953596,
          0.9139964809756717,
          0.9418454691025547,
          0.9365073948598132,
          0.9187568557742685,
          0.8802638442482373,
          0.9178263629085086,
          0.9162388843457944,
          0.8922622595614101,
          0.8373877659912342,
          0.8826696047747289,
          0.8974890887850467,
          0.8658791258139361,
          0.7804112240360795,
          0.8423466627847732,
          0.8801416880841122,
          0.8337711286580346,
          0.7159356221812869,
          0.7895062741101972,
          0.8606323130841121,
          0.7990431180300877,
          0.6435227466175444,
          0.7344051386563797,
          0.8411233820093459,
          0.7599739989521742,
          0.5815261640094009,
          0.6781438605429798,
          0.8151890829439252,
          0.7214293241523838,
          0.5089237692942895,
          0.620640774437732,
          0.7932840362149532,
          0.6821348214953972,
          0.44616544495966465,
          0.5648886090690735,
          0.771671839953271,
          0.6431782089663947,
          0.3738776980245188,
          0.5043310794089818,
          0.7535641063084112,
          0.6042582478856373,
          0.3042616972622753,
          0.44777628648373247,
          0.731308785046729,
          0.5672098271087493,
          0.24106045861652797,
          0.3886007060193609,
          0.7108646028037383,
          0.5307235723373999,
          0.1884647335323636,
          0.3336472741829828,
          0.6927575175233645,
          0.4983158708180525,
          0.14685819094200597,
          0.2832074386782153,
          0.6754095268691589,
          0.47256882718359405,
          0.11280978847741854,
          0.23873313923866366,
          0.6590539077102804,
          0.4476457563056658,
          0.09165792415676809,
          0.20474448649828955,
          0.6387853212616822,
          0.423770028440985,
          0.07431715047957822,
          0.172135031661693,
          0.6244741530373832,
          0.4022895217423846,
          0.06129459442291812,
          0.1511730184147318,
          0.6127336507009346,
          0.3831677831000674,
          0.05227446484151686,
          0.13152196666424049,
          0.6008760163551402,
          0.36767478856373026,
          0.04636860827034237,
          0.11704043962442681,
          0.5912961448598131,
          0.35263051792530503,
          0.042366251667407734,
          0.10342843001674065,
          0.5808987207943925,
          0.3394577090038171,
          0.039190205170551995,
          0.09425544799475945,
          0.5715533528037383,
          0.32748321607664094,
          0.03696773169027504,
          0.08937948176723197,
          0.5639007943925233,
          0.3166678616869995,
          0.0356338817252112,
          0.0852299803479147,
          0.5565997021028037,
          0.30854677045131357,
          0.035380505621546085,
          0.08159136036101608,
          0.5505833644859813,
          0.29978919242571667,
          0.03461816680429397,
          0.07867929252492903,
          0.545794304906542,
          0.29365225656762217,
          0.03455443689258718,
          0.07591294126210058,
          0.5382595268691589,
          0.286054876132026,
          0.03366486692498253,
          0.07460267850644152,
          0.532885636682243,
          0.278982288002395,
          0.033411014419106905,
          0.07358382706164932,
          0.5302572021028038,
          0.27269599580869697,
          0.0329021279298736,
          0.07263711332702526,
          0.5285629848130841,
          0.26775583788638574,
          0.03296531791907514,
          0.0718366329427178,
          0.5270433235981309,
          0.26397617319062944,
          0.032711166867814265,
          0.0720550767887037,
          0.5243571612149532,
          0.2601962427961979,
          0.03264792606237693,
          0.07161797801877866,
          0.5215533294392524,
          0.25611747249457373,
          0.032838436130343644,
          0.0711814906470631
         ],
         "xaxis": "x",
         "y": [
          0.9978648398576512,
          0.9982237238396787,
          0.9973564523090201,
          0.99781815261531,
          0.9943850612890471,
          0.9972972430303498,
          0.9943352341389727,
          0.9947872840778229,
          0.9924872439699487,
          0.9934360413931578,
          0.9882932347863618,
          0.991635456694345,
          0.9844996915776988,
          0.9866398872499808,
          0.9787978150625809,
          0.9854540881265531,
          0.9769076314748912,
          0.9772181095065257,
          0.9642868795856712,
          0.9779371174010546,
          0.9686045947014631,
          0.9654795428218396,
          0.9448644259818731,
          0.9667876477362264,
          0.9565049031237642,
          0.9485674878368987,
          0.9185915947345706,
          0.9506637068913267,
          0.9400563780150257,
          0.9266351146806704,
          0.8861141832110488,
          0.9275128250196982,
          0.919019889284302,
          0.8987570237083944,
          0.8455443839015969,
          0.8936926419783018,
          0.9001987979438514,
          0.8626161325198857,
          0.7904067975830816,
          0.8541127583489908,
          0.8681707789640174,
          0.826473133060468,
          0.7310112429866207,
          0.8041100612158313,
          0.8397007750098853,
          0.7840762298246969,
          0.6628191573154942,
          0.7506514031153403,
          0.812733894820087,
          0.7372779287975905,
          0.5895542403970652,
          0.6873160373355961,
          0.7856085804665877,
          0.6845324040466445,
          0.5202848564954683,
          0.6160373416570701,
          0.7642554764729143,
          0.6360336087728782,
          0.44740045856711264,
          0.551183841444936,
          0.7357073151443259,
          0.590624511545293,
          0.3716549093655589,
          0.4836655009394509,
          0.7054973981810992,
          0.5498487914124643,
          0.30459434613724645,
          0.4182663797805928,
          0.6794000711743772,
          0.5083770715885396,
          0.2417461750107898,
          0.35510998242317715,
          0.6574153657572163,
          0.46690751409375236,
          0.18623207272334916,
          0.29886733135341537,
          0.6321076235666271,
          0.4293759054753263,
          0.13756886599050494,
          0.24546883447481666,
          0.6074331751680506,
          0.4021928874816588,
          0.10271904402244281,
          0.1997086732529244,
          0.5886116330565441,
          0.3776340721291219,
          0.07499028377211912,
          0.16528251409176314,
          0.5731111348359036,
          0.35153093675187275,
          0.05702263703064308,
          0.13618747802897144,
          0.5570577224199288,
          0.33006324040466445,
          0.045532401812688826,
          0.11267261046124008,
          0.5432176433372875,
          0.3109884624295312,
          0.03808759710832974,
          0.09715580338202315,
          0.529536164491894,
          0.2953106108579813,
          0.032531360595597754,
          0.08606484029335111,
          0.5205215658362989,
          0.2790166422117538,
          0.028808470004315925,
          0.07757882901994059,
          0.5092133333333333,
          0.2687454861379257,
          0.026705179110919294,
          0.0702453300200012,
          0.5009890154211151,
          0.25801062630318944,
          0.025033993310315063,
          0.06497327716831322,
          0.491735642546461,
          0.2474304888408371,
          0.024440661415623652,
          0.0604875143948118,
          0.48675381573744564,
          0.23816319406904007,
          0.02346921126456625,
          0.057941596460391535,
          0.4795564650059312,
          0.2313675727855433,
          0.023307482736296934,
          0.0556991332808049,
          0.4738623724792408,
          0.22325942543825777,
          0.02276779240397065,
          0.054062925025759136,
          0.46745708185053386,
          0.2183938682523747,
          0.022497798877859302,
          0.05291274622704406,
          0.4636610043495453,
          0.2110572631091204,
          0.0217964501510574,
          0.05163989332686829,
          0.45804588374851724,
          0.20395281488918063,
          0.021257277729823047,
          0.04982141341899509,
          0.4523518861209964,
          0.20217651556104715,
          0.021149563012516186,
          0.048609727862294685,
          0.4500589877421906,
          0.1973113676731794,
          0.020717975830815707,
          0.04776180374568155,
          0.4480034559114275,
          0.1935267819908873,
          0.020448381527837723,
          0.047094623916601006,
          0.4450760063266113,
          0.19213669781450304,
          0.020394130340958137,
          0.04679127825928844,
          0.4427042230130486,
          0.18966521739130435,
          0.02017825312904618,
          0.04636767076792533
         ],
         "yaxis": "y"
        },
        {
         "line": {
          "color": "black"
         },
         "type": "scatter",
         "x": [
          0.013737910818973175,
          0.02359914404302395,
          0.03346037726707473,
          0.043321610491125505,
          0.05318284371517628,
          0.06304407693922706,
          0.07290531016327784,
          0.08276654338732861,
          0.09262777661137939,
          0.10248900983543016,
          0.11235024305948094,
          0.12221147628353171,
          0.13207270950758251,
          0.1419339427316333,
          0.15179517595568406,
          0.16165640917973484,
          0.17151764240378561,
          0.1813788756278364,
          0.19124010885188716,
          0.20110134207593794,
          0.2109625752999887,
          0.2208238085240395,
          0.23068504174809026,
          0.24054627497214104,
          0.25040750819619184,
          0.2602687414202426,
          0.2701299746442934,
          0.27999120786834414,
          0.28985244109239494,
          0.2997136743164457,
          0.3095749075404965,
          0.31943614076454724,
          0.32929737398859804,
          0.33915860721264884,
          0.3490198404366996,
          0.3588810736607504,
          0.36874230688480114,
          0.37860354010885194,
          0.3884647733329027,
          0.3983260065569535,
          0.40818723978100424,
          0.41804847300505504,
          0.4279097062291058,
          0.4377709394531566,
          0.44763217267720734,
          0.45749340590125814,
          0.4673546391253089,
          0.4772158723493597,
          0.4870771055734105,
          0.49693833879746124,
          0.506799572021512,
          0.5166608052455628,
          0.5265220384696135,
          0.5363832716936643,
          0.546244504917715,
          0.5561057381417659,
          0.5659669713658166,
          0.5758282045898674,
          0.5856894378139181,
          0.595550671037969,
          0.6054119042620197,
          0.6152731374860705,
          0.6251343707101212,
          0.6349956039341721,
          0.6448568371582228,
          0.6547180703822736,
          0.6645793036063244,
          0.6744405368303752,
          0.6843017700544259,
          0.6941630032784767,
          0.7040242365025275,
          0.7138854697265783,
          0.723746702950629,
          0.7336079361746798,
          0.7434691693987306,
          0.7533304026227814,
          0.7631916358468321,
          0.7730528690708829,
          0.7829141022949337,
          0.7927753355189845,
          0.8026365687430352,
          0.8124978019670861,
          0.8223590351911368,
          0.8322202684151876,
          0.8420815016392383,
          0.8519427348632892,
          0.8618039680873399,
          0.8716652013113907,
          0.8815264345354414,
          0.8913876677594923,
          0.901248900983543,
          0.9111101342075938,
          0.9209713674316445,
          0.9308326006556954,
          0.9406938338797461,
          0.9505550671037969,
          0.9604163003278477,
          0.9702775335518985,
          0.9801387667759492,
          0.99
         ],
         "y": [
          0.0015777633734614686,
          0.0035613989077946406,
          0.0060227147440904145,
          0.008883526770244968,
          0.01209507745789635,
          0.015623143622734799,
          0.01944197295862845,
          0.02353126931039669,
          0.0278744975250301,
          0.032457846019816994,
          0.03726955104364086,
          0.042299434909560577,
          0.04753857818442775,
          0.0529790796308193,
          0.058613875809583924,
          0.06443660252325482,
          0.07044148638663701,
          0.07662325858740152,
          0.08297708531580368,
          0.08949851093465405,
          0.09618341103685492,
          0.103027953281958,
          0.11002856442820738,
          0.11718190235366928,
          0.1244848321353968,
          0.13193440545958138,
          0.13952784278882427,
          0.14726251782909153,
          0.1551359439284173,
          0.16314576210892287,
          0.1712897304882236,
          0.17956571488940287,
          0.18797168047312057,
          0.19650568425305534,
          0.20516586837825107,
          0.21395045408416657,
          0.22285773622917532,
          0.23188607834559413,
          0.24103390814454698,
          0.250299713422501,
          0.2596820383244578,
          0.2691794799248022,
          0.27879068509190025,
          0.2885143476068607,
          0.29834920551055893,
          0.308294038656181,
          0.31834766644725093,
          0.32850894574344713,
          0.33877676891852954,
          0.3491500620564577,
          0.3596277832733041,
          0.3702089211538995,
          0.3808924932933165,
          0.3916775449343162,
          0.4025631476927901,
          0.4135483983640183,
          0.42463241780327105,
          0.4358143498749053,
          0.44709336046465414,
          0.45846863655030856,
          0.469939385326422,
          0.48150483337906813,
          0.493164225907026,
          0.5049168259860897,
          0.5167619138734759,
          0.5286987863495659,
          0.5407267560944389,
          0.5528451510968698,
          0.5650533140936498,
          0.5773506020372545,
          0.5897363855900464,
          0.6022100486433303,
          0.6147709878597176,
          0.6274186122373626,
          0.640152342694746,
          0.6529716116747751,
          0.6658758627670635,
          0.6788645503473248,
          0.6919371392329016,
          0.7050931043535075,
          0.7183319304363351,
          0.7316531117047275,
          0.7450561515896739,
          0.7585405624534383,
          0.7721058653246673,
          0.7857515896443754,
          0.799477273022238,
          0.8132824610026617,
          0.8271667068401309,
          0.8411295712833661,
          0.8551706223678499,
          0.869289435216314,
          0.8834855918467919,
          0.897758680987878,
          0.9121082979008455,
          0.9265340442082994,
          0.9410355277290617,
          0.9556123623189947,
          0.9702641677174979,
          0.9849905693994141
         ]
        },
        {
         "line": {
          "color": "black"
         },
         "type": "scatter",
         "x": [
          0.013737910818973175,
          0.02359914404302395,
          0.03346037726707473,
          0.043321610491125505,
          0.05318284371517628,
          0.06304407693922706,
          0.07290531016327784,
          0.08276654338732861,
          0.09262777661137939,
          0.10248900983543016,
          0.11235024305948094,
          0.12221147628353171,
          0.13207270950758251,
          0.1419339427316333,
          0.15179517595568406,
          0.16165640917973484,
          0.17151764240378561,
          0.1813788756278364,
          0.19124010885188716,
          0.20110134207593794,
          0.2109625752999887,
          0.2208238085240395,
          0.23068504174809026,
          0.24054627497214104,
          0.25040750819619184,
          0.2602687414202426,
          0.2701299746442934,
          0.27999120786834414,
          0.28985244109239494,
          0.2997136743164457,
          0.3095749075404965,
          0.31943614076454724,
          0.32929737398859804,
          0.33915860721264884,
          0.3490198404366996,
          0.3588810736607504,
          0.36874230688480114,
          0.37860354010885194,
          0.3884647733329027,
          0.3983260065569535,
          0.40818723978100424,
          0.41804847300505504,
          0.4279097062291058,
          0.4377709394531566,
          0.44763217267720734,
          0.45749340590125814,
          0.4673546391253089,
          0.4772158723493597,
          0.4870771055734105,
          0.49693833879746124,
          0.506799572021512,
          0.5166608052455628,
          0.5265220384696135,
          0.5363832716936643,
          0.546244504917715,
          0.5561057381417659,
          0.5659669713658166,
          0.5758282045898674,
          0.5856894378139181,
          0.595550671037969,
          0.6054119042620197,
          0.6152731374860705,
          0.6251343707101212,
          0.6349956039341721,
          0.6448568371582228,
          0.6547180703822736,
          0.6645793036063244,
          0.6744405368303752,
          0.6843017700544259,
          0.6941630032784767,
          0.7040242365025275,
          0.7138854697265783,
          0.723746702950629,
          0.7336079361746798,
          0.7434691693987306,
          0.7533304026227814,
          0.7631916358468321,
          0.7730528690708829,
          0.7829141022949337,
          0.7927753355189845,
          0.8026365687430352,
          0.8124978019670861,
          0.8223590351911368,
          0.8322202684151876,
          0.8420815016392383,
          0.8519427348632892,
          0.8618039680873399,
          0.8716652013113907,
          0.8815264345354414,
          0.8913876677594923,
          0.901248900983543,
          0.9111101342075938,
          0.9209713674316445,
          0.9308326006556954,
          0.9406938338797461,
          0.9505550671037969,
          0.9604163003278477,
          0.9702775335518985,
          0.9801387667759492,
          0.99
         ],
         "y": [
          0.004826564583940962,
          0.009461054447069838,
          0.01460722392290763,
          0.02014224813462984,
          0.025995857302730376,
          0.032121754347579586,
          0.038486814000601346,
          0.045066002906023056,
          0.05183964850538511,
          0.058791829585989115,
          0.06590936173184538,
          0.07318112380769493,
          0.08059759207654209,
          0.08815050696666653,
          0.09583262799245114,
          0.10363754922063274,
          0.11155955749855631,
          0.11959352161866944,
          0.12773480433612305,
          0.1359791915805138,
          0.14432283481553762,
          0.15276220359883563,
          0.1612940461584202,
          0.16991535634363275,
          0.17862334569896443,
          0.1874154196948076,
          0.19628915736128336,
          0.2052422937307061,
          0.2142727046154931,
          0.22337839334152754,
          0.23255747912935276,
          0.24180818687227745,
          0.25112883810528897,
          0.26051784299437175,
          0.2699736932044826,
          0.279494955527593,
          0.28908026617104626,
          0.29872832562190116,
          0.3084378940156241,
          0.31820778694800694,
          0.3280368716779251,
          0.3379240636758686,
          0.34786832347931523,
          0.35786865382120125,
          0.3679240970021315,
          0.3780337324807113,
          0.38819667465956537,
          0.39841207084734737,
          0.4086790993793904,
          0.41899696788167917,
          0.4293649116645776,
          0.43978219223427023,
          0.45024809591120357,
          0.4607619325459691,
          0.4713230343240867,
          0.4819307546520349,
          0.4925844671176592,
          0.5032835645187798,
          0.5140274579544296,
          0.5248155759736962,
          0.5356473637776206,
          0.5465222824700324,
          0.5574398083535846,
          0.5683994322675874,
          0.5794006589645466,
          0.590443006522591,
          0.6015260057912032,
          0.6126491998679072,
          0.6238121436037526,
          0.6350144031356155,
          0.6462555554435045,
          0.6575351879312009,
          0.6688528980286966,
          0.6802082928150167,
          0.6916009886601192,
          0.7030306108846653,
          0.7144967934365509,
          0.7259991785831597,
          0.7375374166183891,
          0.7491111655835592,
          0.7607200910013827,
          0.7723638656222314,
          0.7840421691819879,
          0.7957546881708223,
          0.8075011156122746,
          0.8192811508520702,
          0.8310944993561306,
          0.8429408725172787,
          0.8548199874701705,
          0.8667315669140128,
          0.8786753389426593,
          0.8906510368816997,
          0.9026583991321803,
          0.9146971690206188,
          0.9267670946549955,
          0.9388679287864233,
          0.9509994286762142,
          0.9631613559680795,
          0.9753534765652162,
          0.9875755605120431
         ]
        }
       ],
       "layout": {
        "legend": {
         "title": {
          "text": "ent_bin_in"
         },
         "tracegroupgap": 0
        },
        "margin": {
         "t": 60
        },
        "template": {
         "data": {
          "bar": [
           {
            "error_x": {
             "color": "#2a3f5f"
            },
            "error_y": {
             "color": "#2a3f5f"
            },
            "marker": {
             "line": {
              "color": "#E5ECF6",
              "width": 0.5
             },
             "pattern": {
              "fillmode": "overlay",
              "size": 10,
              "solidity": 0.2
             }
            },
            "type": "bar"
           }
          ],
          "barpolar": [
           {
            "marker": {
             "line": {
              "color": "#E5ECF6",
              "width": 0.5
             },
             "pattern": {
              "fillmode": "overlay",
              "size": 10,
              "solidity": 0.2
             }
            },
            "type": "barpolar"
           }
          ],
          "carpet": [
           {
            "aaxis": {
             "endlinecolor": "#2a3f5f",
             "gridcolor": "white",
             "linecolor": "white",
             "minorgridcolor": "white",
             "startlinecolor": "#2a3f5f"
            },
            "baxis": {
             "endlinecolor": "#2a3f5f",
             "gridcolor": "white",
             "linecolor": "white",
             "minorgridcolor": "white",
             "startlinecolor": "#2a3f5f"
            },
            "type": "carpet"
           }
          ],
          "choropleth": [
           {
            "colorbar": {
             "outlinewidth": 0,
             "ticks": ""
            },
            "type": "choropleth"
           }
          ],
          "contour": [
           {
            "colorbar": {
             "outlinewidth": 0,
             "ticks": ""
            },
            "colorscale": [
             [
              0,
              "#0d0887"
             ],
             [
              0.1111111111111111,
              "#46039f"
             ],
             [
              0.2222222222222222,
              "#7201a8"
             ],
             [
              0.3333333333333333,
              "#9c179e"
             ],
             [
              0.4444444444444444,
              "#bd3786"
             ],
             [
              0.5555555555555556,
              "#d8576b"
             ],
             [
              0.6666666666666666,
              "#ed7953"
             ],
             [
              0.7777777777777778,
              "#fb9f3a"
             ],
             [
              0.8888888888888888,
              "#fdca26"
             ],
             [
              1,
              "#f0f921"
             ]
            ],
            "type": "contour"
           }
          ],
          "contourcarpet": [
           {
            "colorbar": {
             "outlinewidth": 0,
             "ticks": ""
            },
            "type": "contourcarpet"
           }
          ],
          "heatmap": [
           {
            "colorbar": {
             "outlinewidth": 0,
             "ticks": ""
            },
            "colorscale": [
             [
              0,
              "#0d0887"
             ],
             [
              0.1111111111111111,
              "#46039f"
             ],
             [
              0.2222222222222222,
              "#7201a8"
             ],
             [
              0.3333333333333333,
              "#9c179e"
             ],
             [
              0.4444444444444444,
              "#bd3786"
             ],
             [
              0.5555555555555556,
              "#d8576b"
             ],
             [
              0.6666666666666666,
              "#ed7953"
             ],
             [
              0.7777777777777778,
              "#fb9f3a"
             ],
             [
              0.8888888888888888,
              "#fdca26"
             ],
             [
              1,
              "#f0f921"
             ]
            ],
            "type": "heatmap"
           }
          ],
          "heatmapgl": [
           {
            "colorbar": {
             "outlinewidth": 0,
             "ticks": ""
            },
            "colorscale": [
             [
              0,
              "#0d0887"
             ],
             [
              0.1111111111111111,
              "#46039f"
             ],
             [
              0.2222222222222222,
              "#7201a8"
             ],
             [
              0.3333333333333333,
              "#9c179e"
             ],
             [
              0.4444444444444444,
              "#bd3786"
             ],
             [
              0.5555555555555556,
              "#d8576b"
             ],
             [
              0.6666666666666666,
              "#ed7953"
             ],
             [
              0.7777777777777778,
              "#fb9f3a"
             ],
             [
              0.8888888888888888,
              "#fdca26"
             ],
             [
              1,
              "#f0f921"
             ]
            ],
            "type": "heatmapgl"
           }
          ],
          "histogram": [
           {
            "marker": {
             "pattern": {
              "fillmode": "overlay",
              "size": 10,
              "solidity": 0.2
             }
            },
            "type": "histogram"
           }
          ],
          "histogram2d": [
           {
            "colorbar": {
             "outlinewidth": 0,
             "ticks": ""
            },
            "colorscale": [
             [
              0,
              "#0d0887"
             ],
             [
              0.1111111111111111,
              "#46039f"
             ],
             [
              0.2222222222222222,
              "#7201a8"
             ],
             [
              0.3333333333333333,
              "#9c179e"
             ],
             [
              0.4444444444444444,
              "#bd3786"
             ],
             [
              0.5555555555555556,
              "#d8576b"
             ],
             [
              0.6666666666666666,
              "#ed7953"
             ],
             [
              0.7777777777777778,
              "#fb9f3a"
             ],
             [
              0.8888888888888888,
              "#fdca26"
             ],
             [
              1,
              "#f0f921"
             ]
            ],
            "type": "histogram2d"
           }
          ],
          "histogram2dcontour": [
           {
            "colorbar": {
             "outlinewidth": 0,
             "ticks": ""
            },
            "colorscale": [
             [
              0,
              "#0d0887"
             ],
             [
              0.1111111111111111,
              "#46039f"
             ],
             [
              0.2222222222222222,
              "#7201a8"
             ],
             [
              0.3333333333333333,
              "#9c179e"
             ],
             [
              0.4444444444444444,
              "#bd3786"
             ],
             [
              0.5555555555555556,
              "#d8576b"
             ],
             [
              0.6666666666666666,
              "#ed7953"
             ],
             [
              0.7777777777777778,
              "#fb9f3a"
             ],
             [
              0.8888888888888888,
              "#fdca26"
             ],
             [
              1,
              "#f0f921"
             ]
            ],
            "type": "histogram2dcontour"
           }
          ],
          "mesh3d": [
           {
            "colorbar": {
             "outlinewidth": 0,
             "ticks": ""
            },
            "type": "mesh3d"
           }
          ],
          "parcoords": [
           {
            "line": {
             "colorbar": {
              "outlinewidth": 0,
              "ticks": ""
             }
            },
            "type": "parcoords"
           }
          ],
          "pie": [
           {
            "automargin": true,
            "type": "pie"
           }
          ],
          "scatter": [
           {
            "fillpattern": {
             "fillmode": "overlay",
             "size": 10,
             "solidity": 0.2
            },
            "type": "scatter"
           }
          ],
          "scatter3d": [
           {
            "line": {
             "colorbar": {
              "outlinewidth": 0,
              "ticks": ""
             }
            },
            "marker": {
             "colorbar": {
              "outlinewidth": 0,
              "ticks": ""
             }
            },
            "type": "scatter3d"
           }
          ],
          "scattercarpet": [
           {
            "marker": {
             "colorbar": {
              "outlinewidth": 0,
              "ticks": ""
             }
            },
            "type": "scattercarpet"
           }
          ],
          "scattergeo": [
           {
            "marker": {
             "colorbar": {
              "outlinewidth": 0,
              "ticks": ""
             }
            },
            "type": "scattergeo"
           }
          ],
          "scattergl": [
           {
            "marker": {
             "colorbar": {
              "outlinewidth": 0,
              "ticks": ""
             }
            },
            "type": "scattergl"
           }
          ],
          "scattermapbox": [
           {
            "marker": {
             "colorbar": {
              "outlinewidth": 0,
              "ticks": ""
             }
            },
            "type": "scattermapbox"
           }
          ],
          "scatterpolar": [
           {
            "marker": {
             "colorbar": {
              "outlinewidth": 0,
              "ticks": ""
             }
            },
            "type": "scatterpolar"
           }
          ],
          "scatterpolargl": [
           {
            "marker": {
             "colorbar": {
              "outlinewidth": 0,
              "ticks": ""
             }
            },
            "type": "scatterpolargl"
           }
          ],
          "scatterternary": [
           {
            "marker": {
             "colorbar": {
              "outlinewidth": 0,
              "ticks": ""
             }
            },
            "type": "scatterternary"
           }
          ],
          "surface": [
           {
            "colorbar": {
             "outlinewidth": 0,
             "ticks": ""
            },
            "colorscale": [
             [
              0,
              "#0d0887"
             ],
             [
              0.1111111111111111,
              "#46039f"
             ],
             [
              0.2222222222222222,
              "#7201a8"
             ],
             [
              0.3333333333333333,
              "#9c179e"
             ],
             [
              0.4444444444444444,
              "#bd3786"
             ],
             [
              0.5555555555555556,
              "#d8576b"
             ],
             [
              0.6666666666666666,
              "#ed7953"
             ],
             [
              0.7777777777777778,
              "#fb9f3a"
             ],
             [
              0.8888888888888888,
              "#fdca26"
             ],
             [
              1,
              "#f0f921"
             ]
            ],
            "type": "surface"
           }
          ],
          "table": [
           {
            "cells": {
             "fill": {
              "color": "#EBF0F8"
             },
             "line": {
              "color": "white"
             }
            },
            "header": {
             "fill": {
              "color": "#C8D4E3"
             },
             "line": {
              "color": "white"
             }
            },
            "type": "table"
           }
          ]
         },
         "layout": {
          "annotationdefaults": {
           "arrowcolor": "#2a3f5f",
           "arrowhead": 0,
           "arrowwidth": 1
          },
          "autotypenumbers": "strict",
          "coloraxis": {
           "colorbar": {
            "outlinewidth": 0,
            "ticks": ""
           }
          },
          "colorscale": {
           "diverging": [
            [
             0,
             "#8e0152"
            ],
            [
             0.1,
             "#c51b7d"
            ],
            [
             0.2,
             "#de77ae"
            ],
            [
             0.3,
             "#f1b6da"
            ],
            [
             0.4,
             "#fde0ef"
            ],
            [
             0.5,
             "#f7f7f7"
            ],
            [
             0.6,
             "#e6f5d0"
            ],
            [
             0.7,
             "#b8e186"
            ],
            [
             0.8,
             "#7fbc41"
            ],
            [
             0.9,
             "#4d9221"
            ],
            [
             1,
             "#276419"
            ]
           ],
           "sequential": [
            [
             0,
             "#0d0887"
            ],
            [
             0.1111111111111111,
             "#46039f"
            ],
            [
             0.2222222222222222,
             "#7201a8"
            ],
            [
             0.3333333333333333,
             "#9c179e"
            ],
            [
             0.4444444444444444,
             "#bd3786"
            ],
            [
             0.5555555555555556,
             "#d8576b"
            ],
            [
             0.6666666666666666,
             "#ed7953"
            ],
            [
             0.7777777777777778,
             "#fb9f3a"
            ],
            [
             0.8888888888888888,
             "#fdca26"
            ],
            [
             1,
             "#f0f921"
            ]
           ],
           "sequentialminus": [
            [
             0,
             "#0d0887"
            ],
            [
             0.1111111111111111,
             "#46039f"
            ],
            [
             0.2222222222222222,
             "#7201a8"
            ],
            [
             0.3333333333333333,
             "#9c179e"
            ],
            [
             0.4444444444444444,
             "#bd3786"
            ],
            [
             0.5555555555555556,
             "#d8576b"
            ],
            [
             0.6666666666666666,
             "#ed7953"
            ],
            [
             0.7777777777777778,
             "#fb9f3a"
            ],
            [
             0.8888888888888888,
             "#fdca26"
            ],
            [
             1,
             "#f0f921"
            ]
           ]
          },
          "colorway": [
           "#636efa",
           "#EF553B",
           "#00cc96",
           "#ab63fa",
           "#FFA15A",
           "#19d3f3",
           "#FF6692",
           "#B6E880",
           "#FF97FF",
           "#FECB52"
          ],
          "font": {
           "color": "#2a3f5f"
          },
          "geo": {
           "bgcolor": "white",
           "lakecolor": "white",
           "landcolor": "#E5ECF6",
           "showlakes": true,
           "showland": true,
           "subunitcolor": "white"
          },
          "hoverlabel": {
           "align": "left"
          },
          "hovermode": "closest",
          "mapbox": {
           "style": "light"
          },
          "paper_bgcolor": "white",
          "plot_bgcolor": "#E5ECF6",
          "polar": {
           "angularaxis": {
            "gridcolor": "white",
            "linecolor": "white",
            "ticks": ""
           },
           "bgcolor": "#E5ECF6",
           "radialaxis": {
            "gridcolor": "white",
            "linecolor": "white",
            "ticks": ""
           }
          },
          "scene": {
           "xaxis": {
            "backgroundcolor": "#E5ECF6",
            "gridcolor": "white",
            "gridwidth": 2,
            "linecolor": "white",
            "showbackground": true,
            "ticks": "",
            "zerolinecolor": "white"
           },
           "yaxis": {
            "backgroundcolor": "#E5ECF6",
            "gridcolor": "white",
            "gridwidth": 2,
            "linecolor": "white",
            "showbackground": true,
            "ticks": "",
            "zerolinecolor": "white"
           },
           "zaxis": {
            "backgroundcolor": "#E5ECF6",
            "gridcolor": "white",
            "gridwidth": 2,
            "linecolor": "white",
            "showbackground": true,
            "ticks": "",
            "zerolinecolor": "white"
           }
          },
          "shapedefaults": {
           "line": {
            "color": "#2a3f5f"
           }
          },
          "ternary": {
           "aaxis": {
            "gridcolor": "white",
            "linecolor": "white",
            "ticks": ""
           },
           "baxis": {
            "gridcolor": "white",
            "linecolor": "white",
            "ticks": ""
           },
           "bgcolor": "#E5ECF6",
           "caxis": {
            "gridcolor": "white",
            "linecolor": "white",
            "ticks": ""
           }
          },
          "title": {
           "x": 0.05
          },
          "xaxis": {
           "automargin": true,
           "gridcolor": "white",
           "linecolor": "white",
           "ticks": "",
           "title": {
            "standoff": 15
           },
           "zerolinecolor": "white",
           "zerolinewidth": 2
          },
          "yaxis": {
           "automargin": true,
           "gridcolor": "white",
           "linecolor": "white",
           "ticks": "",
           "title": {
            "standoff": 15
           },
           "zerolinecolor": "white",
           "zerolinewidth": 2
          }
         }
        },
        "xaxis": {
         "anchor": "y",
         "domain": [
          0,
          1
         ],
         "title": {
          "text": "wer_out"
         },
         "type": "log"
        },
        "yaxis": {
         "anchor": "x",
         "domain": [
          0,
          1
         ],
         "title": {
          "text": "wer_in"
         },
         "type": "log"
        }
       }
      }
     },
     "metadata": {},
     "output_type": "display_data"
    }
   ],
   "source": [
    "# stats\n",
    "\n",
    "perplm = binlm = 'rnnlm_lstm_1a'\n",
    "\n",
    "parts = ('dev-clean', 'dev-other', 'ROC', 'PRV')\n",
    "binpart = 'dev-clean'\n",
    "perplm = binlm = 'rnnlm_lstm_1a'\n",
    "\n",
    "num_bins = 3\n",
    "power = 0.05\n",
    "\n",
    "bounds = bin_series(perp_df.loc[(perp_df['perplm'] == binlm) & (perp_df['part'] == binpart), 'ent'], num_bins, lower_quant=0.05, upper_quant=0.95, by_rank=True)[1]\n",
    "df = perp_df.loc[(perp_df['perplm'] == perplm) & (perp_df['part'].isin(parts))].copy()\n",
    "df['ent_bin'] = bin_series(df['ent'], bounds, by_rank=False, fmt=\"{:.01f}\")[0]\n",
    "bin_cats = df['ent_bin'].dtype.categories\n",
    "\n",
    "df = df.merge(uttwer_df, on=['utt', 'part', 'len'])\n",
    "df['mdl'] = (df['mdl'] + '_' + df['latlm'] + '_' + df['reslm']).map(MDL_LATLM_RESLM2RENAME).dropna()\n",
    "df = agg_mean_by_lens(df, 'len', 'wer',  ['snr', 'part', 'mdl', 'ent_bin'])\n",
    "df['lwer'] = np.log(df['wer'])\n",
    "df = df.loc[np.isfinite(df['snr']) & (df['lwer'] < 0)].dropna()\n",
    "\n",
    "mask = df['ent_bin'] == bin_cats[num_bins - 1]\n",
    "df, df_out = df.loc[~mask], df.loc[mask]\n",
    "df = df.merge(df_out, on=['snr', 'part', 'mdl'], suffixes=('_in', '_out'))\n",
    "df = df.assign(ent_bin_in=df.ent_bin_in.cat.remove_unused_categories())\n",
    "\n",
    "df = df.loc[df['mdl'] == 'W2V2-L']\n",
    "\n",
    "fits = []\n",
    "for b in (0.0, 0.1, 0.25, 0.5, 0.75, 0.9):\n",
    "    df_ = df.loc[(df['wer_out'] > b)]\n",
    "    for negative_log_fit in (True, False):\n",
    "        fit = boothroyd_fit(df_, alpha=power, negative_log_fit=negative_log_fit)\n",
    "        fit['b'] = b\n",
    "        fit['nlf'] = negative_log_fit\n",
    "        fits.append(fit.reset_index())\n",
    "fits = pd.concat(fits).pivot(index=['nlf', 'b'], columns=['name'], values=['coef', 'se', 'ci_low', 'ci_high'])\n",
    "display(fits.round(2))\n",
    "\n",
    "fit = boothroyd_fit(df, alpha=power, negative_log_fit=True)\n",
    "\n",
    "fig = px.scatter(df, 'wer_out', 'wer_in', color='ent_bin_in', log_x=True, log_y=True)\n",
    "x = np.linspace(df['wer_in'].min(), 0.99, 100)\n",
    "for bin in range(num_bins - 1):\n",
    "    fit_ = fit.loc[f\"ent_bin_in[{bin_cats[bin]}]\"]\n",
    "    y = boothroyd_func(x, fit_[\"coef\"])\n",
    "    error_up = boothroyd_func(x, fit_[\"ci_low\"]) - y\n",
    "    error_down = y - boothroyd_func(x, fit_[\"ci_high\"])\n",
    "    fig.add_scatter(\n",
    "        x=x,\n",
    "        y=y,\n",
    "        # error_y=dict(\n",
    "        #     type='data',\n",
    "        #     symmetric=False,\n",
    "        #     array=error_up,\n",
    "        #     arrayminus=error_down,\n",
    "        # ),\n",
    "        line=dict(color=\"black\"),\n",
    "    )\n",
    "fig.show()\n",
    "\n",
    "# # display(pg.normality(fit['resid'].iloc[0]))\n",
    "\n",
    "# # norm = pg.normality(df, 'k', 'ent_bin_in')\n",
    "# # display(norm.round(3))\n",
    "# # assert not norm.iloc[0]['normal']  # use ANOVA or Welch-ANOVA otherwise\n",
    "# # assert num_bins == 3  # use kruskal otherwise\n",
    "# # k_low = df.loc[df['ent_bin_in'] == bin_cats[0], 'k']\n",
    "# # k_high = df.loc[df['ent_bin_in'] == bin_cats[1], 'k']\n",
    "# # mwu = pg.mwu(k_low, k_high)\n",
    "# # display(mwu.round(3))\n",
    "# # assert mwu.iloc[0]['p-val'] < power\n",
    "\n",
    "# # norms, krs, pts, frs, lrs = [], [], [], [], []\n",
    "# # for bin in range(0, num_bins - 1):\n",
    "# #     bin_ = bin_cats[bin]\n",
    "# #     df_bin = df.loc[df['ent_bin_in'] == bin_]\n",
    "\n",
    "# #     norm = pg.normality(df_bin, 'k', 'mdl', alpha=power)\n",
    "# #     assert not norm.iloc[0]['normal']\n",
    "# #     norms.append(norm)\n",
    "# #     kr = pg.kruskal(df_bin, 'k', 'mdl')\n",
    "# #     assert kr.iloc[0]['p-unc'] < power\n",
    "# #     krs.append(kr)\n",
    "# #     pt = pg.pairwise_tests(df_bin, 'k', 'mdl', parametric=False, alpha=power)\n",
    "# #     pts.append(pt)\n",
    "\n",
    "# #     for df_ in (norm, kr, pt):\n",
    "# #         df_['ent_bin_in'] = bin_\n",
    "# #         df_['dv'] = 'k'\n",
    "# #         df_['iv'] = 'mdl'\n",
    "\n",
    "# #     fr = pg.friedman(df_bin, 'k', 'snr', 'mdl')\n",
    "# #     fr['ent_bin_in'], fr['dv'], fr['iv'] = bin_, 'k', 'snr'\n",
    "# #     frs.append(kr)\n",
    "\n",
    "# #     for mdl in df['mdl'].unique():\n",
    "# #         df_mdl = df_bin.loc[df_bin['mdl'] == mdl]\n",
    "\n",
    "# #         lr = pg.linear_regression(df_mdl[['lwer_out']], df_mdl['lwer_in'], add_intercept=True)\n",
    "# #         lr['ent_bin_in'], lr['mdl'], lr['part'] = bin_, mdl, 'all'\n",
    "# #         lrs.append(lr)\n",
    "# #         px.scatter(x=np.arange(len(lr.residuals_)), y=lr.residuals_).show()\n",
    "# #         display(norm)\n",
    "# #         for part in parts:\n",
    "# #             df_part = df_mdl.loc[df_mdl['part'] == part]\n",
    "# #             lr = pg.linear_regression(df_part[['lwer_out']], df_part['lwer_in'], add_intercept=True)\n",
    "# #             lr['ent_bin_in'], lr['mdl'], lr['part'] = bin_, mdl, part\n",
    "# #             lrs.append(lr)\n",
    "\n",
    "\n",
    "# # idx = ['ent_bin_in', 'dv', 'iv']\n",
    "\n",
    "# # norms = pd.concat(norms).set_index(idx)\n",
    "# # display(norms.round(3))\n",
    "\n",
    "# # krs = pd.concat(krs).set_index(idx)\n",
    "# # display(krs.round(3))\n",
    "\n",
    "# # frs = pd.concat(frs).set_index(idx)\n",
    "# # display(frs.round(3))\n",
    "\n",
    "# # pts = pd.concat(pts).set_index(idx)\n",
    "# # display(pts.round(3))\n",
    "\n",
    "# # lrs = pd.concat(lrs).pivot(index=['ent_bin_in', 'mdl', 'part'], values=['coef', 'se', 'pval'], columns=['names'])\n",
    "# # display(lrs.round(3))\n",
    "\n",
    "# # x_lims = [1, 101]\n",
    "# # y_lims = [1, 101]\n",
    "\n",
    "# # fig = px.scatter(\n",
    "# #     df.loc[df['mdl'].isin({'TDNN-3', 'W2V2-L'})], x='wer_out', y='wer_in', color='part', symbol='ent_bin_in',\n",
    "# #     facet_col='mdl',\n",
    "# #     symbol_sequence=list(range(num_bins - 1)),\n",
    "# #     category_orders=dict(part=parts),\n",
    "# #     labels=dict(\n",
    "# #         wer_out=f\"Error rate {E_I} (%) for {H_I} in {bin_cats[num_bins - 1]}\",\n",
    "# #         wer_in=f\"Error rate {E_C} (%)\",\n",
    "# #     ),\n",
    "# #     log_x=True, log_y=True, range_x=x_lims, range_y=y_lims,\n",
    "# # )\n",
    "# # for i, trace in enumerate(fig.data):\n",
    "# #     if trace.mode == 'markers':\n",
    "# #         name = trace.name.split(', ')\n",
    "# #         if name[1] in bin_cats[1:]:\n",
    "# #             trace['name'] = ''\n",
    "# #             trace['showlegend']=False\n",
    "# #         else:\n",
    "# #             trace['name'] = name[0]\n",
    "# # for bin in range(num_bins - 1):\n",
    "# #     fig.add_scatter(\n",
    "# #         y=[None], mode='markers',\n",
    "# #         marker=dict(color='black', symbol=bin),\n",
    "# #         legend=\"legend2\",\n",
    "# #         name=bin_cats[bin],\n",
    "# #     )\n",
    "# # for col in range(1, 3):\n",
    "# #     fig.add_scatter(\n",
    "# #         x=x_lims,\n",
    "# #         y=x_lims,\n",
    "# #         mode='lines',\n",
    "# #         line=dict(color=\"grey\", width=1, dash='dash'),\n",
    "# #         showlegend=False,\n",
    "# #         col=col, row=1,\n",
    "# #     )\n",
    "# # fig.update_traces(marker=dict(line_width=1, size=4))\n",
    "# # fig.update_layout(\n",
    "# #     width=DOUBLE_COL_SIZE_PX, height=COL_SIZE_PX,\n",
    "# #     margin=dict(l=0, r=10, t=20, b=0),\n",
    "# #     font=FONT,\n",
    "# #     legend=dict(\n",
    "# #         title_text='Partition',\n",
    "# #         yanchor=\"top\",\n",
    "# #         y=0.99,\n",
    "# #         xanchor=\"left\",\n",
    "# #         x=0.01,\n",
    "# #     ),\n",
    "# #     legend2=dict(\n",
    "# #         title_text=f\"{H_C} range\",\n",
    "# #         yanchor=\"bottom\",\n",
    "# #         y=0.01,\n",
    "# #         xanchor=\"right\",\n",
    "# #         x=0.99,\n",
    "# #     )\n",
    "# # )\n",
    "# # fig.for_each_annotation(lambda a: a.update(text=a.text.split(\"=\")[-1]))\n",
    "# # fig.write_image(format_fig_path('foo', binlm=binlm))"
   ]
  },
  {
   "cell_type": "code",
   "execution_count": null,
   "metadata": {},
   "outputs": [],
   "source": [
    "mdl = 'wav2vec2-base-960h'\n",
    "mdl = 'wav2vec2-large-960h-lv60'\n",
    "latlm = reslm = 'null'\n",
    "\n",
    "# mdl = 'tdnn_1d_sp'\n",
    "# latlm = 'tgsmall'\n",
    "# reslm = 'fglarge'\n",
    "\n",
    "perplm = binlm = 'rnnlm_lstm_1a'\n",
    "\n",
    "num_bins = 3\n",
    "num_points = 100\n",
    "binpart = 'dev-clean'\n",
    "parts = ('dev-clean', 'dev-other', 'ROC', 'PRV')\n",
    "add_intercept = False\n",
    "log_lims = 1, 101\n",
    "cfg = dict(\n",
    "    mdl=mdl, latlm=latlm, reslm=reslm, perplm=perplm, binlm=binlm, num_bins=num_bins,\n",
    "    binpart=binpart, parts=parts, intercept=add_intercept\n",
    ")\n",
    "\n",
    "bounds = bin_series(perp_df.loc[(perp_df['perplm'] == binlm) & (perp_df['part'] == binpart), 'ent'], num_bins, lower_quant=0.05, upper_quant=0.95, by_rank=False)[1]\n",
    "df = perp_df.loc[(perp_df['perplm'] == perplm) & (perp_df['part'].isin(parts))].copy()\n",
    "df['ent_bin'] = bin_series(df['ent'], bounds, by_rank=False, fmt=\"{:.01f}\")[0]\n",
    "bin_cats = df['ent_bin'].dtype.categories\n",
    "\n",
    "min_bin, max_bin = 0, num_bins - 1\n",
    "\n",
    "df = df.merge(\n",
    "    uttwer_df.loc[\n",
    "        (uttwer_df['reslm'] == reslm) &\n",
    "        (uttwer_df['latlm'] == latlm) &\n",
    "        (uttwer_df['mdl'] == mdl)\n",
    "    ], on=['utt', 'part', 'len'])\n",
    "\n",
    "df = agg_mean_by_lens(df, 'len', 'wer', ['snr', 'ent_bin', 'part'])\n",
    "df['lwer'] = np.log(df['wer'])\n",
    "df['wer'] *= 100\n",
    "df['acc'] = 100 - df['wer']\n",
    "mask = df['ent_bin'] == bin_cats[max_bin]\n",
    "df, df_out = df.loc[~mask], df.loc[mask]\n",
    "df = df.merge(df_out, on=['snr', 'part'], suffixes=('_in', '_out'))\n",
    "df['k'] = df['lwer_in'] / df['lwer_out']\n",
    "df['r'] = df['wer_out'] / df['wer_in']\n",
    "\n",
    "fig = px.scatter(\n",
    "    df, x='wer_out', y='k', color='part', symbol=\"ent_bin_in\",\n",
    "    symbol_sequence=list(range(min_bin, max_bin)),\n",
    "    category_orders=dict(part=parts),\n",
    "    labels=dict(\n",
    "        k=f\"Ratio of log error rates (log {E_C} over log {E_I})\",\n",
    "        wer_out=f\"Error rate {E_I} (%) for {H_I} in {bin_cats[max_bin]}\",\n",
    "    ),\n",
    ")\n",
    "fig.update_traces(marker=dict(line_width=1, size=4))\n",
    "for i, trace in enumerate(fig.data):\n",
    "    name = trace.name.split(', ')\n",
    "    if name[1] in bin_cats[min_bin + 1:]:\n",
    "        trace['name'] = ''\n",
    "        trace['showlegend']=False\n",
    "    else:\n",
    "        trace['name'] = name[0]\n",
    "for bin in range(min_bin, max_bin):\n",
    "    fig.add_scatter(\n",
    "        y=[None], mode='markers',\n",
    "        marker=dict(color='black', symbol=bin),\n",
    "        legend=\"legend2\",\n",
    "        name=bin_cats[bin]\n",
    "    )\n",
    "fig.update_layout(\n",
    "    width=COL_SIZE_PX, height=COL_SIZE_PX,\n",
    "    margin=dict(l=0, r=10, t=10, b=0),\n",
    "    font=FONT,\n",
    "    xaxis=dict(range=[0, 101]),\n",
    "    yaxis=dict(range=[1, 3]),\n",
    "    legend=dict(\n",
    "        title_text='Partition',\n",
    "        yanchor=\"top\",\n",
    "        y=0.99,\n",
    "        xanchor=\"left\",\n",
    "        x=0.01,\n",
    "    ),\n",
    "    legend2=dict(\n",
    "        title_text=f\"{H_C} range\",\n",
    "        yanchor=\"top\",\n",
    "        y=0.99,\n",
    "        xanchor=\"left\",\n",
    "        x=0.35,\n",
    "    )\n",
    ")\n",
    "# fig.show()\n",
    "fig.write_image(format_fig_path('k', **cfg))\n",
    "\n",
    "fig = px.scatter(\n",
    "    df, x='wer_out', y='r', color='part', symbol=\"ent_bin_in\",\n",
    "    symbol_sequence=list(range(min_bin, max_bin)),\n",
    "    category_orders=dict(part=parts),\n",
    "    labels=dict(\n",
    "        r=f\"Ratio of error rates ({E_I} over {E_C})\",\n",
    "        wer_out=f\"Error rate {E_I} (%) for {H_I} in {bin_cats[max_bin]}\",\n",
    "    ),\n",
    ")\n",
    "fig.update_traces(marker=dict(line_width=1, size=4))\n",
    "for i, trace in enumerate(fig.data):\n",
    "    name = trace.name.split(', ')\n",
    "    if name[1] in bin_cats[min_bin + 1:]:\n",
    "        trace['name'] = ''\n",
    "        trace['showlegend']=False\n",
    "    else:\n",
    "        trace['name'] = name[0]\n",
    "for bin in range(min_bin, max_bin):\n",
    "    fig.add_scatter(\n",
    "        y=[None], mode='markers',\n",
    "        marker=dict(color='black', symbol=bin),\n",
    "        legend=\"legend2\",\n",
    "        name=bin_cats[bin]\n",
    "    )\n",
    "fig.update_layout(\n",
    "    width=COL_SIZE_PX, height=COL_SIZE_PX,\n",
    "    margin=dict(l=0, r=10, t=10, b=0),\n",
    "    font=FONT,\n",
    "    xaxis=dict(range=[0, 101]),\n",
    "    yaxis=dict(range=[0.9, 3.5]),\n",
    "    legend=dict(\n",
    "        title_text='Partition',\n",
    "        yanchor=\"top\",\n",
    "        y=0.99,\n",
    "        xanchor=\"right\",\n",
    "        x=0.99,\n",
    "    ),\n",
    "    legend2=dict(\n",
    "        title_text=f\"{H_C} range\",\n",
    "        yanchor=\"top\",\n",
    "        y=0.99,\n",
    "        xanchor=\"right\",\n",
    "        x=0.65,\n",
    "    )\n",
    ")\n",
    "# fig.show()\n",
    "fig.write_image(format_fig_path('r', **cfg))\n",
    "\n",
    "fig = px.scatter(\n",
    "    df, x='acc_out', y='acc_in', color='part', symbol=\"ent_bin_in\",\n",
    "    symbol_sequence=list(range(min_bin, max_bin)),\n",
    "    category_orders=dict(part=parts),\n",
    "    labels=dict(\n",
    "        acc_out=f\"Accuracy {P_I} (%) for {H_I} in {bin_cats[max_bin]}\",\n",
    "        acc_in=f\"Accuracy {P_C} (%)\",\n",
    "    ),\n",
    ")\n",
    "fig.update_traces(marker=dict(line_width=1, size=4))\n",
    "for i, trace in enumerate(fig.data):\n",
    "    name = trace.name.split(', ')\n",
    "    if name[1] in bin_cats[min_bin + 1:]:\n",
    "        trace['name'] = ''\n",
    "        trace['showlegend']=False\n",
    "    else:\n",
    "        trace['name'] = name[0]\n",
    "for bin in range(min_bin, max_bin):\n",
    "    fig.add_scatter(\n",
    "        y=[None], mode='markers',\n",
    "        marker=dict(color='black', symbol=bin),\n",
    "        legend=\"legend2\",\n",
    "        name=bin_cats[bin]\n",
    "    )\n",
    "fig.add_scatter(\n",
    "    x=[0, 100],\n",
    "    y=[0, 100],\n",
    "    mode='lines',\n",
    "    line=dict(color=\"grey\", width=1, dash='dash'),\n",
    "    showlegend=False,\n",
    ")\n",
    "fig.update_layout(\n",
    "    width=DOUBLE_COL_SIZE_PX, height=COL_SIZE_PX,\n",
    "    margin=dict(l=0, r=10, t=10, b=0),\n",
    "    font=FONT,\n",
    "    xaxis=dict(range=[0, 100]),\n",
    "    yaxis=dict(range=[0, 100]),\n",
    "    legend=dict(\n",
    "        title_text='Partition',\n",
    "        yanchor=\"top\",\n",
    "        y=0.99,\n",
    "        xanchor=\"left\",\n",
    "        x=0.01,\n",
    "    ),\n",
    "    legend2=dict(\n",
    "        title_text=f\"{H_C} range\",\n",
    "        yanchor=\"bottom\",\n",
    "        y=0.01,\n",
    "        xanchor=\"right\",\n",
    "        x=0.99,\n",
    "    ),\n",
    ")\n",
    "# fig.show()\n",
    "fig.write_image(format_fig_path('acc-ratio', **cfg))\n",
    "\n",
    "fig = px.scatter(\n",
    "    df, x='wer_out', y='wer_in', color='part', symbol=\"ent_bin_in\",\n",
    "    symbol_sequence=list(range(min_bin, max_bin)),\n",
    "    category_orders=dict(part=parts),\n",
    "    labels=dict(\n",
    "        wer_out=f\"Error rate {E_I} (%) for {H_I} in {bin_cats[max_bin]}\",\n",
    "        wer_in=f\"Error rate {E_C} (%)\",\n",
    "    ),\n",
    "    log_x=True, log_y=True, range_x=log_lims, range_y=log_lims,\n",
    ")\n",
    "\n",
    "\n",
    "fig.update_traces(marker=dict(line_width=1, size=4))\n",
    "for i, trace in enumerate(fig.data):\n",
    "    name = trace.name.split(', ')\n",
    "    if name[1] in bin_cats[min_bin + 1:]:\n",
    "        trace['name'] = ''\n",
    "        trace['showlegend']=False\n",
    "    else:\n",
    "        trace['name'] = name[0]\n",
    "for bin in range(min_bin, max_bin):\n",
    "    fig.add_scatter(\n",
    "        y=[None], mode='markers',\n",
    "        marker=dict(color='black', symbol=bin),\n",
    "        legend=\"legend2\",\n",
    "        name=bin_cats[bin]\n",
    "    )\n",
    "fig.add_scatter(\n",
    "    x=log_lims,\n",
    "    y=log_lims,\n",
    "    mode='lines',\n",
    "    line=dict(color=\"grey\", width=1, dash='dash'),\n",
    "    showlegend=False,\n",
    ")\n",
    "fig.update_layout(\n",
    "    width=DOUBLE_COL_SIZE_PX, height=COL_SIZE_PX,\n",
    "    margin=dict(l=0, r=10, t=10, b=0),\n",
    "    font=FONT,\n",
    "    legend=dict(\n",
    "        title_text=\"Partition\",\n",
    "        yanchor=\"top\",\n",
    "        y=0.99,\n",
    "        xanchor=\"left\",\n",
    "        x=0.01,\n",
    "    ),\n",
    "    legend2=dict(\n",
    "        title_text=f\"{H_C} range\",\n",
    "        yanchor=\"bottom\",\n",
    "        y=0.01,\n",
    "        xanchor=\"right\",\n",
    "        x=0.99,\n",
    "    )\n",
    ")\n",
    "fig.show()\n",
    "fig.write_image(format_fig_path('lwer-ratio', **cfg))\n",
    "\n"
   ]
  },
  {
   "cell_type": "code",
   "execution_count": null,
   "metadata": {},
   "outputs": [],
   "source": [
    "# boothroyd prediction\n",
    "num_bins = 7\n",
    "train_mdl = 'tdnn_1d_sp'\n",
    "train_part = 'dev-clean'\n",
    "train_latlm = train_reslm = 'tgsmall'\n",
    "train_perplm = 'fglarge'\n",
    "test_mdls = ('tri6b', 'wav2vec2-large-960h-lv60', 'wav2vec2-base-960h')\n",
    "test_parts = ('dev-other',)\n",
    "test_reslms = ('fglarge',)\n",
    "test_perplms = ('tgmed', 'fglarge')\n",
    "add_intercept = False\n",
    "\n",
    "# determine SNRs which don't have extremal values. It is more important to set the\n",
    "# max, as high values tend to inflate correlations (i.e. 0.99^k ~= 0.99)\n",
    "min_wer, max_wer = 0.0, 0.20\n",
    "df = wer_df.replace(dict(latlm=dict(null=train_latlm), reslm=dict(null=train_reslm)))\n",
    "df = df.loc[\n",
    "    (df['mdl'] == train_mdl) &\n",
    "    (df['latlm'] == train_latlm) &\n",
    "    (df['reslm'] == train_reslm) &\n",
    "    (df['part'] == train_part) &\n",
    "    np.isfinite(df['snr'])\n",
    "].groupby('snr')['wer'].agg(['min', 'max'])\n",
    "good_snrs = df.index[(df['min'] >= min_wer) & (df['max'] <= max_wer)]\n",
    "good_snr_min, good_snr_max = good_snrs.min(), good_snrs.max()\n",
    "good_snr_mid = (good_snr_min + good_snr_max) / 2\n",
    "print(f\"good SNRs: [{good_snr_min}, {good_snr_max}]\")\n",
    "\n",
    "# all records we'll consider\n",
    "df = perp_df.copy()\n",
    "bounds = bin_series(\n",
    "    perp_df.loc[\n",
    "        (perp_df['perplm'] == train_perplm) &\n",
    "        (perp_df['part'] == train_part)\n",
    "    , 'ent'], num_bins)[1]\n",
    "df['perp_bin'] = bin_series(df['ent'], bounds, by_rank=False, fmt=\"{:.01f}\")[0]\n",
    "bin_cats = df['perp_bin'].dtype.categories\n",
    "\n",
    "df = df.merge(\n",
    "    uttwer_df.loc[\n",
    "        np.isinf(uttwer_df['snr']) |\n",
    "        ((uttwer_df['snr'] >= good_snr_min) & (uttwer_df['snr'] <= good_snr_max))\n",
    "    ], on=['utt', 'part', 'len'])\n",
    "df = agg_mean_by_lens(\n",
    "    df,\n",
    "    'len',\n",
    "    ['wer', 'ent', 'len'],\n",
    "    ['snr', 'perp_bin', 'perplm', 'reslm', 'latlm', 'mdl', 'part'],\n",
    ")\n",
    "df['lwer'] = np.log(df['wer'])\n",
    "df = df.replace(dict(latlm=dict(null=train_latlm), reslm=dict(null=train_reslm)))\n",
    "df = df.dropna()\n",
    "\n",
    "train_df = df.loc[\n",
    "    (df['latlm'] == train_latlm) &\n",
    "    (df['reslm'] == train_reslm) &\n",
    "    (df['perplm'] == train_perplm) &\n",
    "    (df['mdl'] == train_mdl) &\n",
    "    (df['part'] == train_part)\n",
    "]\n",
    "\n",
    "print('train entropy by bin')\n",
    "display(train_df.groupby('perp_bin', observed=False)[['ent']].mean().round(3))\n",
    "ent_fit = dict()\n",
    "for in_bin in range(num_bins):\n",
    "    ent_in = train_df.loc[train_df['perp_bin'] == bin_cats[in_bin], 'ent'].iloc[0]\n",
    "    for out_bin in range(num_bins):\n",
    "         ent_out = train_df.loc[train_df['perp_bin'] == bin_cats[out_bin], 'ent'].iloc[0]\n",
    "         ent_fit[(in_bin, out_bin)] = (12 - ent_in) / (12 - ent_out), 0\n",
    "\n",
    "def train(df : pd.DataFrame) -> dict[tuple[int, int], tuple[float,float]]:\n",
    "    fits = dict()\n",
    "    df = df.loc[np.isfinite(df['snr'])]\n",
    "    for in_bin in range(num_bins):\n",
    "        df_in = df.loc[df['perp_bin'] == bin_cats[in_bin], ['snr', 'lwer']]\n",
    "        for out_bin in range(num_bins):\n",
    "            df_out = df.loc[df['perp_bin'] == bin_cats[out_bin], ['snr', 'lwer']]\n",
    "            df_in_out = df_in.merge(df_out, on='snr', suffixes=('_in', '_out'))\n",
    "            print(df_in_out.head())\n",
    "            k, c = boothroyd_fit(\n",
    "                df_in_out['lwer_out'].to_numpy(),\n",
    "                df_in_out['lwer_in'].to_numpy(),\n",
    "                add_intercept=add_intercept,\n",
    "            )\n",
    "            print(k, c)\n",
    "            fits[(in_bin, out_bin)] = k, c\n",
    "    return fits\n",
    "\n",
    "def test(df: pd.DataFrame, fits : dict[(int, int), tuple[float, float]], plot : bool = False) -> pd.DataFrame:\n",
    "    res = dict()\n",
    "    is_inf = np.isinf(df['snr'])\n",
    "    df_nonoise, df = df.loc[is_inf], df.loc[~is_inf]\n",
    "    for in_bin in range(num_bins):\n",
    "        df_in = df.loc[df['perp_bin'] == bin_cats[in_bin]]\n",
    "        wer_true = df_nonoise.loc[df_nonoise['perp_bin'] == bin_cats[in_bin], 'wer'].iloc[0]\n",
    "        df_in = df_in[['snr', 'lwer']]\n",
    "        for out_bin in range(num_bins):\n",
    "            df_out = df.loc[df['perp_bin'] == bin_cats[out_bin]]\n",
    "            k, c = fits[(in_bin, out_bin)]\n",
    "            wer_pred = df_nonoise.loc[df_nonoise['perp_bin'] == bin_cats[out_bin], 'wer'].iloc[0] ** k\n",
    "            df_out = df_out[['snr', 'lwer']]\n",
    "            df_in_out = df_in.merge(df_out, on='snr', suffixes=('_in', '_out'))\n",
    "            y_true = df_in_out['lwer_in'].to_numpy()\n",
    "            y_pred = k * df_in_out['lwer_out'].to_numpy() + c\n",
    "            r2 = r2_score(y_true, y_pred)\n",
    "            res[(in_bin, out_bin)] = r2, 100 * wer_true, 100 * wer_pred\n",
    "    df = pd.DataFrame.from_dict(res, orient='index', columns=['r2', 'wer_true', 'wer_pred'])\n",
    "    df.sort_index()\n",
    "    df.index = pd.MultiIndex.from_product([bin_cats] * 2, names=['in_bin', 'out_bin'])\n",
    "    if plot:\n",
    "        im = df.reset_index().pivot(values='r2', columns='out_bin', index='in_bin')\n",
    "        fig = px.imshow(\n",
    "            im,\n",
    "            labels=dict(x=\"out-of-context bin\", y=\"in-context bin\", z=\"R^2\"),\n",
    "            x=bin_cats,\n",
    "            y=bin_cats,\n",
    "            zmin=-1,\n",
    "            text_auto=\".3f\",\n",
    "            color_continuous_scale='BrBG',\n",
    "        )\n",
    "        fig.show()\n",
    "    return df\n",
    "\n",
    "def display_test(df: pd.DataFrame, groupby=None):\n",
    "    df = df.reset_index()\n",
    "    df = df.reset_index().loc[df['in_bin'] != df['out_bin']].copy()\n",
    "    df['wer_diff'] = np.abs(df['wer_pred'] - df['wer_true'])\n",
    "    df['wer_prop'] = df['wer_diff'] / df['wer_true'] * 100\n",
    "    if groupby:\n",
    "        df_with = df.groupby(groupby)\n",
    "    else:\n",
    "        df_with = df\n",
    "    df_with = df_with[['r2', 'wer_diff', 'wer_true', 'wer_prop']].describe()\n",
    "    df = df.loc[\n",
    "        (df['in_bin'] != bin_cats[0]) &\n",
    "        (df['in_bin'] != bin_cats[-1]) &\n",
    "        (df['out_bin'] != bin_cats[0]) &\n",
    "        (df['out_bin'] != bin_cats[-1])\n",
    "    ]\n",
    "    if groupby:\n",
    "        df_wo = df.groupby(groupby)\n",
    "    else:\n",
    "        df_wo = df\n",
    "    df_wo = df_wo[['r2', 'wer_diff', 'wer_true', 'wer_prop']].describe()\n",
    "    df = pd.concat([df_with, df_wo], keys=['w/ extreme bins', 'w/o extreme bins'])\n",
    "    display(df.transpose().round(3))\n",
    "\n",
    "\n",
    "# print('all equal fit on train')\n",
    "# display_test(test(\n",
    "#     train_df,\n",
    "#     dict((key, (1, 0)) for key in product(range(num_bins), repeat=2)),\n",
    "#     True\n",
    "# ))\n",
    "\n",
    "print('entropy fit on train')\n",
    "display_test(test(train_df, ent_fit, True))\n",
    "\n",
    "fit = train(train_df)\n",
    "\n",
    "print('train and test on self')\n",
    "display_test(test(train_df, fit, True))\n",
    "\n",
    "# for test_mdl in test_mdls:\n",
    "#     test_df = df.loc[\n",
    "#         (df['latlm'] == train_latlm) &\n",
    "#         (df['reslm'] == train_reslm) &\n",
    "#         (df['perplm'] == train_perplm) &\n",
    "#         (df['mdl'] == test_mdl) &\n",
    "#         (df['part'] == train_part)\n",
    "#     ]\n",
    "\n",
    "#     print(f\"train on {train_mdl}, test on {test_mdl}\")\n",
    "#     display_test(test(test_df, fit, True))\n",
    "\n",
    "#     print(f\"entropy fit on {test_mdl}\")\n",
    "#     display_test(test(test_df, ent_fit, True))\n",
    "\n",
    "\n",
    "# for test_part in test_parts:\n",
    "#     test_df = df.loc[\n",
    "#         (df['latlm'] == train_latlm) &\n",
    "#         (df['reslm'] == train_reslm) &\n",
    "#         (df['perplm'] == train_perplm) &\n",
    "#         (df['mdl'] == train_mdl) &\n",
    "#         (df['part'] == test_part)\n",
    "#     ]\n",
    "\n",
    "#     print(f\"train on {train_part}, test on {test_part}\")\n",
    "#     display_test(test(test_df, fit, True))\n",
    "\n",
    "#     print(f\"entropy fit on {test_part}\")\n",
    "#     display_test(test(test_df, ent_fit, True))\n",
    "\n",
    "# for test_reslm in test_reslms:\n",
    "#     test_df = df.loc[\n",
    "#         (df['latlm'] == train_latlm) &\n",
    "#         (df['reslm'] == test_reslm) &\n",
    "#         (df['perplm'] == train_perplm) &\n",
    "#         (df['mdl'] == train_mdl) &\n",
    "#         (df['part'] == train_part)\n",
    "#     ]\n",
    "\n",
    "#     print(f\"train on {train_reslm}-rescored, test on {test_reslm}-rescored\")\n",
    "#     display_test(test(test_df, fit, True))\n",
    "\n",
    "#     print(f\"entropy fit on {test_reslm} rescore\")\n",
    "#     display_test(test(test_df, ent_fit, True))\n",
    "\n",
    "# for test_perplm in test_perplms:\n",
    "#     test_df = df.loc[\n",
    "#         (df['latlm'] == train_latlm) &\n",
    "#         (df['reslm'] == train_reslm) &\n",
    "#         (df['perplm'] == test_perplm) &\n",
    "#         (df['mdl'] == train_mdl) &\n",
    "#         (df['part'] == train_part)\n",
    "#     ]\n",
    "\n",
    "#     print(f\"partitioned with {train_perplm}, test on {test_perplm} bins\")\n",
    "#     display_test(test(test_df, fit))\n",
    "\n",
    "#     print(f\"entropy fit on {test_perplm} bins\")\n",
    "#     display_test(test(test_df, ent_fit))\n"
   ]
  },
  {
   "cell_type": "markdown",
   "metadata": {},
   "source": [
    "## Klakow and Peters"
   ]
  },
  {
   "cell_type": "code",
   "execution_count": null,
   "metadata": {},
   "outputs": [],
   "source": [
    "# Klakow and Peters (2002). \"Testing the correlation of word error rate and perplexity\"\n",
    "# \"... slope a is smaller for tasks that are acoustically more challenging. Hence on\n",
    "# those tasks larger reductions in PP are needed to obtain a given reduction in WER.\" \n",
    "\n",
    "num_bins = 5\n",
    "num_points = 100\n",
    "perplm = binlm = 'rnnlm_lstm_1a'\n",
    "binpart = 'dev-clean'\n",
    "\n",
    "mdl = 'wav2vec2-large-960h-lv60'\n",
    "latlm = reslm = 'null'\n",
    "\n",
    "mdl = 'tdnn_1d_sp'\n",
    "latlm  = 'tgsmall'\n",
    "reslm = 'fglarge'\n",
    "\n",
    "part = 'dev-clean'\n",
    "max_bin = num_bins -1 \n",
    "\n",
    "cfg = dict(\n",
    "    num_bins=num_bins, perplm=perplm, binlm=binlm, binpart=binpart, mdl=mdl,\n",
    "    latlm=latlm, reslm=reslm, part=part,\n",
    ")\n",
    "\n",
    "print(\n",
    "    f\"mdl {mdl}, part {part} lattice lm {latlm}, rescore lm {reslm} perplexity LM \"\n",
    "    f\"{perplm}, bin part {binpart}, bin LM {binlm}\"\n",
    ")\n",
    "\n",
    "df = perp_df.loc[(perp_df['perplm'] == perplm) & (perp_df['part'] == part)].copy()\n",
    "bounds = bin_series(perp_df.loc[(perp_df['perplm'] == binlm) & (perp_df['part'] == binpart), 'ent'], num_bins, by_rank=False, lower_quant=0.05, upper_quant=0.95)[1]\n",
    "bins = bin_series(df['ent'], bounds, by_rank=False, fmt=\"{:.01f}\")[0]\n",
    "df['ent_bin'] = bins\n",
    "bin_cats = df['ent_bin'].dtype.categories\n",
    "\n",
    "df_ent = agg_mean_by_lens(df, 'len', 'ent', 'ent_bin')\n",
    "print('entropy by bin')\n",
    "display(df_ent.round(3))\n",
    "x = df_ent['ent']\n",
    "\n",
    "df = df.merge(uttwer_df.loc[\n",
    "    (uttwer_df['reslm'] == reslm) &\n",
    "    (uttwer_df['latlm'] == latlm) &\n",
    "    (uttwer_df['mdl'] == mdl) &\n",
    "    np.isfinite(uttwer_df['snr'])\n",
    "], on=['utt', 'part', 'len'])\n",
    "display(df.head())\n",
    "snr_50 = agg_mean_by_lens(df, 'len', 'wer', ['snr'])\n",
    "snr_50 = snr_50.loc[snr_50['wer'] < .5, 'snr'].min()\n",
    "df = agg_mean_by_lens(df, 'len', 'wer', ['snr', 'ent_bin'])\n",
    "\n",
    "snrs = df['snr'].unique()\n",
    "snrs.sort()\n",
    "curve_params_list = []\n",
    "fits = []\n",
    "for snr in snrs:\n",
    "    snr_mask = df['snr'] == snr\n",
    "    y = np.log(df.loc[df['snr'] == snr, \"wer\"])\n",
    "    # fit = klakow_fit(x, y, add_intercept=True)\n",
    "    fit = pg.linear_regression(x, y, True)\n",
    "    fit['snr'] = snr\n",
    "    fits.append(fit)\n",
    "    curve_params_list.append({\n",
    "        \"snr\": snr,\n",
    "        \"a\": fit.loc[fit['names'] == 'ent', 'coef'].iloc[0],\n",
    "        \"b\": np.exp(fit.loc[fit['names'] == 'Intercept', 'coef'].iloc[0]),\n",
    "        \"se\": fit.loc[fit['names'] == 'ent', 'se'].iloc[0]\n",
    "    })\n",
    "display(pd.concat(fits).round(3))\n",
    "\n",
    "snr_mini, snr_midi, snr_maxi = 0, 16, len(snrs) - 1\n",
    "df = df.loc[(df['snr'] >= snrs[snr_mini]) & (df['snr'] <= snrs[snr_maxi])]\n",
    "df['wer'] *= 100\n",
    "\n",
    "print(\"WER by (PP, SNR) with select K & P fits\")\n",
    "fig = px.bar(\n",
    "    df,\n",
    "    x='ent_bin',\n",
    "    y='wer',\n",
    "    color='snr',\n",
    "    barmode='overlay',\n",
    "    color_continuous_scale=\"viridis\",\n",
    "    opacity=1.0,\n",
    "    labels={\n",
    "        'wer': 'WER (%)',\n",
    "        'ent_bin': 'Entropy range (nats)',\n",
    "        'snr': 'SNR (dB)',\n",
    "    }\n",
    ")\n",
    "for dict_ in (curve_params_list[snr_mini], curve_params_list[snr_midi], curve_params_list[snr_maxi]):\n",
    "    y = klakow_func(np.exp(x), dict_['a'], dict_['b']) * 100\n",
    "    interp_name = f\"a={dict_['a']:.03f}, b={dict_['b']:.03f}\"\n",
    "    fig.add_scatter(\n",
    "        x=bins.dtype.categories,\n",
    "        y=y,\n",
    "        showlegend=False,\n",
    "        name=interp_name,\n",
    "        mode='markers+lines',\n",
    "        marker=dict(color='red'), line=dict(color='red'))\n",
    "    # fig.add_annotation(\n",
    "    #     x=bins.dtype.categories[2], y=y.iloc[2],\n",
    "    #     text=interp_name,\n",
    "    #     showarrow=True,\n",
    "    #     opacity=1,\n",
    "    #     font=dict(color=\"black\", size=FONT_SIZE),\n",
    "    #     bgcolor='white',\n",
    "    # )\n",
    "fig.update_layout(\n",
    "    yaxis=dict(range=[0, 100]),\n",
    "    font=dict(size=FONT_SIZE),\n",
    "    margin=dict(l=0, r=0, t=10, b=0, pad=5),\n",
    "    width=COL_SIZE_PX, height=COL_SIZE_PX,\n",
    "    coloraxis=dict(colorbar=dict(thickness=20, title=dict(side=\"right\"))),\n",
    ")\n",
    "fig.show()\n",
    "fig.write_image(format_fig_path('kp-over-snr', **cfg))\n",
    "\n",
    "# df = pd.DataFrame.from_records(curve_params_list)\n",
    "# df['logb'] = np.log(df['b'])\n",
    "# df['logb/a'] = df['logb'] / df['a']\n",
    "# df['b^(1/a)'] = np.exp(df['logb/a'])\n",
    "# print('K & P model parameter ratio by snr')\n",
    "# fig = px.scatter(df, x='snr', y='logb/a')\n",
    "# fig.add_vline(x=snr_50, line_dash='dash', line_color='black', annotation_text='50% acc')\n",
    "# fig.show()\n",
    "# print(\"K & P model parameters by SNR\")\n",
    "# df = pd.melt(df, ['snr'], ['a', 'b', 'b^(1/a)'], var_name='param', value_name='val')\n",
    "# fig = px.scatter(df, x='snr', y='val', color='param')\n",
    "# fig.add_vline(x=snr_50, line_dash='dash', line_color='black', annotation_text='50% acc')\n",
    "# fig.update_layout(yaxis_range=[0, 1])\n",
    "# fig.show()\n",
    "\n",
    "# print(\"Predicted k by bin and snr\")\n",
    "# records = []\n",
    "# ent_out = x[num_bins - 1]\n",
    "# for snri, dict_ in enumerate(curve_params_list):\n",
    "#     a, b = dict_['a'], dict_['b']\n",
    "#     snr = int(snrs[snri])\n",
    "#     log_b = np.log(b)\n",
    "#     lwer_out = a * ent_out + log_b\n",
    "#     for bin_in in range(num_bins):\n",
    "#         ent_in = x[bin_in]\n",
    "#         ratio_name = f'{bin_cats[bin_in]} over {bin_cats[num_bins - 1]}'\n",
    "#         lwer_in = a * ent_in + log_b\n",
    "#         k = lwer_in / lwer_out\n",
    "#         records.append(dict(snr=snr, k=k, ratio_name=ratio_name))\n",
    "# df = pd.DataFrame.from_records(records)\n",
    "# fig = px.scatter(df, x='snr', y='k', color='ratio_name')\n",
    "# fig.add_vline(x=snr_50, line_dash='dash', line_color='black', annotation_text='50% acc')\n",
    "# fig.show()\n"
   ]
  },
  {
   "cell_type": "code",
   "execution_count": null,
   "metadata": {},
   "outputs": [],
   "source": [
    "# klakow prediction\n",
    "num_bins = 7\n",
    "train_mdl = 'tdnn_1d_sp'\n",
    "train_part = 'dev-clean'\n",
    "train_latlm = train_reslm = train_perplm = 'tgsmall'\n",
    "test_mdls = ('tri6b',)\n",
    "test_parts = ('dev-other',)\n",
    "test_perplms = ('tgmed', 'fglarge')\n",
    "\n",
    "df = perp_df.copy()\n",
    "bounds = bin_series(\n",
    "    perp_df.loc[\n",
    "        (perp_df['perplm'] == train_perplm) &\n",
    "        (perp_df['part'] == train_part)\n",
    "    , 'ent'], num_bins)[1]\n",
    "df['perp_bin'] = bin_series(df['ent'], bounds, by_rank=False, fmt=\"{:.01f}\")[0]\n",
    "bin_cats = df['perp_bin'].dtype.categories\n",
    "\n",
    "# Klakow's model doesn't have anything to do with SNR\n",
    "df = df.merge(\n",
    "    uttwer_df.loc[\n",
    "        np.isinf(uttwer_df['snr'])\n",
    "    ], on=['utt', 'part', 'len'])\n",
    "df = agg_mean_by_lens(\n",
    "    df,\n",
    "    'len',\n",
    "    ['wer', 'ent', 'len'],\n",
    "    ['perp_bin', 'perplm', 'reslm', 'latlm', 'mdl', 'part'],\n",
    ")\n",
    "df['lwer'] = np.log(df['wer'])\n",
    "\n",
    "train_df = df.loc[\n",
    "    (df['latlm'] == train_latlm) &\n",
    "    (df['reslm'] == train_reslm) &\n",
    "    (df['perplm'] == train_perplm) &\n",
    "    (df['mdl'] == train_mdl) &\n",
    "    (df['part'] == train_part)\n",
    "]\n",
    "\n",
    "def train(df: pd.DataFrame) -> tuple[float, float]:\n",
    "    fit = pg.linear_regression(df['ent'], df['lwer'])\n",
    "    a = fit.loc[fit['names'] == 'ent', 'coef'].iloc[0]\n",
    "    log_b = fit.loc[fit['names'] == 'Intercept', 'coef'].iloc[0]\n",
    "    return a, log_b\n",
    "\n",
    "def test(df: pd.DataFrame, fit: tuple[float, float]) -> dict[str, float]:\n",
    "    wer_true = (df['wer'] * df['len']).sum() / df['len'].sum() * 100\n",
    "    ent = (df['ent'] * df['len']).sum() / df['len'].sum()\n",
    "    wer_pred = np.exp(fit[0] * ent + fit[1]) * 100\n",
    "    y_true = df['lwer'].to_numpy()\n",
    "    y_pred = fit[0] * df['ent'].to_numpy() + fit[1]\n",
    "    if len(y_pred) > 1:\n",
    "        r2 = r2_score(y_true, y_pred)\n",
    "    else:\n",
    "        r2 = None\n",
    "    return dict(r2=r2, wer_true=wer_true, wer_pred=wer_pred)\n",
    "\n",
    "def display_test(records : list[dict], groupby=None):\n",
    "    df = pd.DataFrame.from_records(records)\n",
    "    df['wer_diff'] = np.abs(df['wer_pred'] - df['wer_true'])\n",
    "    df['wer_prop'] = df['wer_diff'] / df['wer_true'] * 100\n",
    "    if groupby:\n",
    "        df = df.groupby(groupby)\n",
    "    df = df[['r2', 'wer_diff', 'wer_true', 'wer_prop']]\n",
    "    if len(records) > 1:\n",
    "        df = df.describe()\n",
    "        df = df.transpose()\n",
    "    display(df.round(3))\n",
    "\n",
    "print(f\"{num_bins}-fold cross-validation\")\n",
    "records = []\n",
    "for test_bin in range(num_bins):\n",
    "    test_mask = train_df['perp_bin'] == bin_cats[test_bin]\n",
    "    records.append(test(train_df[test_mask], train(train_df.loc[~test_mask])))\n",
    "display_test(records)\n",
    "\n",
    "print(\"train and test on self\")\n",
    "fit = train(train_df)\n",
    "display_test([test(train_df, fit)])\n",
    "\n",
    "for test_mdl in test_mdls:\n",
    "    test_df = df.loc[\n",
    "        (df['latlm'] == train_latlm) &\n",
    "        (df['reslm'] == train_reslm) &\n",
    "        (df['perplm'] == train_perplm) &\n",
    "        (df['mdl'] == test_mdl) &\n",
    "        (df['part'] == train_part)\n",
    "    ]\n",
    "\n",
    "    print(f\"train on {train_mdl}, test on {test_mdl}\")\n",
    "    display_test([test(test_df, fit)])\n",
    "\n",
    "\n",
    "for test_part in test_parts:\n",
    "    test_df = df.loc[\n",
    "        (df['latlm'] == train_latlm) &\n",
    "        (df['reslm'] == train_reslm) &\n",
    "        (df['perplm'] == train_perplm) &\n",
    "        (df['mdl'] == train_mdl) &\n",
    "        (df['part'] == test_part)\n",
    "    ]\n",
    "\n",
    "    print(f\"train on {train_part}, test on {test_part}\")\n",
    "    display_test([test(test_df, fit)])\n",
    "\n",
    "for test_perplm in test_perplms:\n",
    "    test_df = df.loc[\n",
    "        (df['latlm'] == train_latlm) &\n",
    "        (df['reslm'] == train_reslm) &\n",
    "        (df['perplm'] == test_perplm) &\n",
    "        (df['mdl'] == train_mdl) &\n",
    "        (df['part'] == train_part)\n",
    "    ]\n",
    "\n",
    "    print(f\"train on {train_part}, test on {test_perplm}\")\n",
    "    display_test([test(test_df, fit)])\n"
   ]
  },
  {
   "cell_type": "markdown",
   "metadata": {},
   "source": [
    "## Thoughts\n",
    "\n",
    "- $k$ is relatively stable to changes in partition, SNR; moreso than $a,b$\n",
    "    - $R^2$ is inflated by low SNRs by virtue of being near to the intercept\n",
    "- $k$ can probably be inferred from $a,b$\n",
    "    - $\\log b / a$ stabilizes as SNR increases. Why?\n",
    "        - Check if $\\log b / a$ converges to something else on `dev-other`. Perhaps it's close enough to the `dev-clean` ratio that drastic changes in entropy dominate?\n",
    "        - Maybe this is compensatory? \n",
    "    - Based on its current trajectory, the ratio of $\\log b / a \\approx 12$ will never be exceeded by the entropy of the partition. The corresponding perplexity is in the vicinity of $162,000$.\n",
    "- $k$ can be estimated by a ratio of entropies\n",
    "    - As speech becomes cleaner, errors are more likely to occur one at a time. Guesswork more closely resembles the perplexity computations, which are conditioned on single words.\n",
    "- Serious problem with ratio estimates (Curran-Everett). $k$ may be compromised.\n",
    "    - Easy solution is to include intercepts. Regardless, $k$ can be used to predict with or without explaining.\n",
    "- Klakow's model predicts accuracy $b$ with $0$ entropy. However, $0$ entropy ought to be $0$ errors."
   ]
  }
 ],
 "metadata": {
  "kernelspec": {
   "display_name": "Python 3",
   "language": "python",
   "name": "python3"
  },
  "language_info": {
   "codemirror_mode": {
    "name": "ipython",
    "version": 3
   },
   "file_extension": ".py",
   "mimetype": "text/x-python",
   "name": "python",
   "nbconvert_exporter": "python",
   "pygments_lexer": "ipython3",
   "version": "3.10.13"
  }
 },
 "nbformat": 4,
 "nbformat_minor": 2
}
